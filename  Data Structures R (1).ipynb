{
  "nbformat": 4,
  "nbformat_minor": 0,
  "metadata": {
    "colab": {
      "provenance": [],
      "authorship_tag": "ABX9TyMDNFpl6UnYbMX6Hlj2OAS7",
      "include_colab_link": true
    },
    "kernelspec": {
      "name": "ir",
      "display_name": "R"
    },
    "language_info": {
      "name": "R"
    }
  },
  "cells": [
    {
      "cell_type": "markdown",
      "metadata": {
        "id": "view-in-github",
        "colab_type": "text"
      },
      "source": [
        "<a href=\"https://colab.research.google.com/github/Drago-Narmadi/HandsOn-Programing/blob/main/%20Data%20Structures%20R%20(1).ipynb\" target=\"_parent\"><img src=\"https://colab.research.google.com/assets/colab-badge.svg\" alt=\"Open In Colab\"/></a>"
      ]
    },
    {
      "cell_type": "markdown",
      "source": [
        "\n",
        "Data Structures"
      ],
      "metadata": {
        "id": "ygDvCPYgJvje"
      }
    },
    {
      "cell_type": "code",
      "execution_count": null,
      "metadata": {
        "colab": {
          "base_uri": "https://localhost:8080/"
        },
        "id": "YvwZLPiXJiqs",
        "outputId": "71d238de-f93d-424f-f5d4-ee327f511a05"
      },
      "outputs": [
        {
          "output_type": "stream",
          "name": "stdout",
          "text": [
            "[1] \"Hi there !\"\n"
          ]
        }
      ],
      "source": [
        "t1 <- \"Hi\"\n",
        "t2 <- \"there\"\n",
        "t3 <- \"!\"\n",
        "r <- paste (t1,t2,t3)\n",
        "print(r)"
      ]
    },
    {
      "cell_type": "code",
      "source": [
        "t1 <- \"Hi\"\n",
        "t2 <- \"there\"\n",
        "t3 <- \"!\"\n",
        "r <- paste (t1,t2,t3,sep=\"-\")\n",
        "print(r)"
      ],
      "metadata": {
        "colab": {
          "base_uri": "https://localhost:8080/"
        },
        "id": "_oALWCneMH73",
        "outputId": "3fe98684-3450-46e5-823a-6d9853e7ce53"
      },
      "execution_count": null,
      "outputs": [
        {
          "output_type": "stream",
          "name": "stdout",
          "text": [
            "[1] \"Hi-there-!\"\n"
          ]
        }
      ]
    },
    {
      "cell_type": "code",
      "source": [
        "t <- \"Hello\"\n",
        "t <- toupper (t)\n",
        "print(t)\n",
        "t <- tolower (t)\n",
        "print(t)"
      ],
      "metadata": {
        "colab": {
          "base_uri": "https://localhost:8080/"
        },
        "id": "Jep1zIrpORgA",
        "outputId": "ab96a099-f7fa-45ae-c4af-d73dfbc62cd6"
      },
      "execution_count": null,
      "outputs": [
        {
          "output_type": "stream",
          "name": "stdout",
          "text": [
            "[1] \"HELLO\"\n",
            "[1] \"hello\"\n"
          ]
        }
      ]
    },
    {
      "cell_type": "code",
      "source": [
        "t <- \"Hello\"\n",
        "print(nchar(t))"
      ],
      "metadata": {
        "colab": {
          "base_uri": "https://localhost:8080/"
        },
        "id": "Jr-aOqyGOobh",
        "outputId": "4201f1ea-38af-4b5a-d7de-c2656eba1ffc"
      },
      "execution_count": null,
      "outputs": [
        {
          "output_type": "stream",
          "name": "stdout",
          "text": [
            "[1] 5\n"
          ]
        }
      ]
    },
    {
      "cell_type": "code",
      "source": [
        "t <- \"Sololearn\"\n",
        "print(substr(t,5,9))"
      ],
      "metadata": {
        "colab": {
          "base_uri": "https://localhost:8080/"
        },
        "id": "zcdHinyWO1Vx",
        "outputId": "20d4429b-0343-481e-9346-0459e262922d"
      },
      "execution_count": null,
      "outputs": [
        {
          "output_type": "stream",
          "name": "stdout",
          "text": [
            "[1] \"learn\"\n"
          ]
        }
      ]
    },
    {
      "cell_type": "code",
      "source": [
        "input <- readline('stdin')\n",
        "string<-input[1]\n",
        "print(nchar(input))"
      ],
      "metadata": {
        "colab": {
          "base_uri": "https://localhost:8080/"
        },
        "id": "EPLpinHKPCeR",
        "outputId": "bff59cb1-03a3-4660-87c3-72bb2358e6f6"
      },
      "execution_count": null,
      "outputs": [
        {
          "output_type": "stream",
          "name": "stdout",
          "text": [
            "stdinrtyxxtdfhjurgf\n",
            "[1] 14\n"
          ]
        }
      ]
    },
    {
      "cell_type": "code",
      "source": [
        "txt <- \"some text\"\n",
        "x <- substr(txt, 2, 6)\n",
        "print(nchar(x))\n",
        "print(x)"
      ],
      "metadata": {
        "colab": {
          "base_uri": "https://localhost:8080/"
        },
        "id": "cSb7jkp8PpHx",
        "outputId": "1cc3ee5f-f2ae-47a2-abaa-58d342294876"
      },
      "execution_count": null,
      "outputs": [
        {
          "output_type": "stream",
          "name": "stdout",
          "text": [
            "[1] 5\n",
            "[1] \"ome t\"\n"
          ]
        }
      ]
    },
    {
      "cell_type": "markdown",
      "source": [
        "Vectors"
      ],
      "metadata": {
        "id": "qi_waVwpYh2W"
      }
    },
    {
      "cell_type": "code",
      "source": [
        "names <- c(\"James\",\"Amy\",\"John\")\n",
        "print(names[2])"
      ],
      "metadata": {
        "id": "90CSRSmvYaeI",
        "colab": {
          "base_uri": "https://localhost:8080/"
        },
        "outputId": "605068af-ef1d-49d8-a602-c54b978236b9"
      },
      "execution_count": 1,
      "outputs": [
        {
          "output_type": "stream",
          "name": "stdout",
          "text": [
            "[1] \"Amy\"\n"
          ]
        }
      ]
    },
    {
      "cell_type": "code",
      "source": [
        "ages <- c(\"James = 18\",\"Amy = 14\",\"John = 64\")\n",
        "print(ages[\"James\"])"
      ],
      "metadata": {
        "colab": {
          "base_uri": "https://localhost:8080/"
        },
        "id": "mcQclQ6j-2BH",
        "outputId": "8af6f070-8307-4bc4-9388-30b186d5d4fa"
      },
      "execution_count": 3,
      "outputs": [
        {
          "output_type": "stream",
          "name": "stdout",
          "text": [
            "[1] NA\n"
          ]
        }
      ]
    },
    {
      "cell_type": "code",
      "source": [
        "names <- c(\"James\",\"Amy\",\"John\")\n",
        "print(names[-2])"
      ],
      "metadata": {
        "colab": {
          "base_uri": "https://localhost:8080/"
        },
        "id": "kiZ1t-yMACjm",
        "outputId": "2edc2f8a-2fbc-4847-bab3-f8315c5d19e4"
      },
      "execution_count": 4,
      "outputs": [
        {
          "output_type": "stream",
          "name": "stdout",
          "text": [
            "[1] \"James\" \"John\" \n"
          ]
        }
      ]
    },
    {
      "cell_type": "code",
      "source": [
        "names <- c(\"James\",\"Amy\",\"John\")\n",
        "print(names[-3])"
      ],
      "metadata": {
        "colab": {
          "base_uri": "https://localhost:8080/"
        },
        "id": "uwA4b3_3ANP1",
        "outputId": "5c121234-6ee3-4326-e1b3-c7bcde950f2a"
      },
      "execution_count": 5,
      "outputs": [
        {
          "output_type": "stream",
          "name": "stdout",
          "text": [
            "[1] \"James\" \"Amy\"  \n"
          ]
        }
      ]
    },
    {
      "cell_type": "code",
      "source": [
        "names <- c(\"James\",\"Amy\",\"John\",\"Dave\",\"Bob\")\n",
        "print (names[2:4])"
      ],
      "metadata": {
        "colab": {
          "base_uri": "https://localhost:8080/"
        },
        "id": "tnZT_XoDARy9",
        "outputId": "525f47f0-2849-4383-f213-a691dc2fcbea"
      },
      "execution_count": 8,
      "outputs": [
        {
          "output_type": "stream",
          "name": "stdout",
          "text": [
            "[1] \"Amy\"  \"John\" \"Dave\"\n"
          ]
        }
      ]
    },
    {
      "cell_type": "code",
      "source": [
        "colors <- c(\"Red\", \"Green\", \"Blue\", \"Purple\", \"Black\", \"Yellow\", \"Orange\", \"Pink\", \"Brown\", \"White\")\n",
        "x <- readline('stdin')\n",
        "x<- as.integer(x[1])\n",
        "print(colors[x])"
      ],
      "metadata": {
        "colab": {
          "base_uri": "https://localhost:8080/"
        },
        "id": "JHp2n6mQAqPe",
        "outputId": "e7b960d1-4113-4644-a2fd-8eb6586b7997"
      },
      "execution_count": 10,
      "outputs": [
        {
          "output_type": "stream",
          "name": "stdout",
          "text": [
            "stdin3\n",
            "[1] \"Blue\"\n"
          ]
        }
      ]
    },
    {
      "cell_type": "code",
      "source": [
        "n <- c(8, 4, 2, 3, 5)\n",
        "x <- n[2:4]\n",
        "x <- x[-1]\n",
        "print(x[1]) "
      ],
      "metadata": {
        "colab": {
          "base_uri": "https://localhost:8080/"
        },
        "id": "sHrBNMXHCy2e",
        "outputId": "000da9a4-dc90-4c46-c1b0-89de157224ec"
      },
      "execution_count": 11,
      "outputs": [
        {
          "output_type": "stream",
          "name": "stdout",
          "text": [
            "[1] 2\n"
          ]
        }
      ]
    },
    {
      "cell_type": "code",
      "source": [
        "n <- readline('stdin')\n",
        "n <- as.integer(n[1])\n",
        "x <- 1:n\n",
        "sum <- 0\n",
        "for (x in 1:n){\n",
        "  sum <- sum + x\n",
        "}\n",
        "print(sum)"
      ],
      "metadata": {
        "colab": {
          "base_uri": "https://localhost:8080/"
        },
        "id": "JD7kOHXHIZwr",
        "outputId": "bfc6020d-cda5-4dec-985c-6dbd512a9a51"
      },
      "execution_count": 12,
      "outputs": [
        {
          "output_type": "stream",
          "name": "stdout",
          "text": [
            "stdin10\n",
            "[1] 55\n"
          ]
        }
      ]
    },
    {
      "cell_type": "markdown",
      "source": [
        "Vector Functions"
      ],
      "metadata": {
        "id": "BqYEEvYHKf_I"
      }
    },
    {
      "cell_type": "code",
      "source": [
        "names <- c(\"James\", \"Amy\", \"John\")\n",
        "print(length(names))"
      ],
      "metadata": {
        "colab": {
          "base_uri": "https://localhost:8080/"
        },
        "id": "nFvztMg6Khwi",
        "outputId": "f26382ae-3fb1-4668-ac57-a339964e41ec"
      },
      "execution_count": 13,
      "outputs": [
        {
          "output_type": "stream",
          "name": "stdout",
          "text": [
            "[1] 3\n"
          ]
        }
      ]
    },
    {
      "cell_type": "code",
      "source": [
        "x <- c(4,8,42,1,6)\n",
        "print(sum(x))"
      ],
      "metadata": {
        "colab": {
          "base_uri": "https://localhost:8080/"
        },
        "id": "zj86HQj7KxhB",
        "outputId": "e6f5da90-4205-4cce-cef4-13896dbcbec8"
      },
      "execution_count": 14,
      "outputs": [
        {
          "output_type": "stream",
          "name": "stdout",
          "text": [
            "[1] 61\n"
          ]
        }
      ]
    },
    {
      "cell_type": "code",
      "source": [
        "x <- c(4,8,42,1,6)\n",
        "print(sort(x))"
      ],
      "metadata": {
        "colab": {
          "base_uri": "https://localhost:8080/"
        },
        "id": "gD8nCCF_K-S7",
        "outputId": "3d146c40-8e4e-4788-b08b-baca86888770"
      },
      "execution_count": 15,
      "outputs": [
        {
          "output_type": "stream",
          "name": "stdout",
          "text": [
            "[1]  1  4  6  8 42\n"
          ]
        }
      ]
    },
    {
      "cell_type": "code",
      "source": [
        "x <- c(4,8,42,1,6)\n",
        "print(sort(x,decreasing = TRUE))"
      ],
      "metadata": {
        "colab": {
          "base_uri": "https://localhost:8080/"
        },
        "id": "4ZU7IumQLOX6",
        "outputId": "3f7393a4-b63a-41ba-818a-59b54d5569bb"
      },
      "execution_count": 16,
      "outputs": [
        {
          "output_type": "stream",
          "name": "stdout",
          "text": [
            "[1] 42  8  6  4  1\n"
          ]
        }
      ]
    },
    {
      "cell_type": "code",
      "source": [
        "x <- 3:9\n",
        "print(x)"
      ],
      "metadata": {
        "colab": {
          "base_uri": "https://localhost:8080/"
        },
        "id": "FuNuPp3_Lfoz",
        "outputId": "1a0e614e-32c9-460a-db12-f0707b88a2be"
      },
      "execution_count": 17,
      "outputs": [
        {
          "output_type": "stream",
          "name": "stdout",
          "text": [
            "[1] 3 4 5 6 7 8 9\n"
          ]
        }
      ]
    },
    {
      "cell_type": "code",
      "source": [
        "x <- seq(1,10,by=2)\n",
        "y <- seq(1,10,by=3)\n",
        "print(x)\n",
        "print(y)"
      ],
      "metadata": {
        "colab": {
          "base_uri": "https://localhost:8080/"
        },
        "id": "F-ODW88kL4_p",
        "outputId": "880110b1-069d-4d54-b9f2-7647c1fbfd21"
      },
      "execution_count": 19,
      "outputs": [
        {
          "output_type": "stream",
          "name": "stdout",
          "text": [
            "[1] 1 3 5 7 9\n",
            "[1]  1  4  7 10\n"
          ]
        }
      ]
    },
    {
      "cell_type": "code",
      "source": [
        "x <- seq(1,100,by=2)\n",
        "print(x[x<50])"
      ],
      "metadata": {
        "colab": {
          "base_uri": "https://localhost:8080/"
        },
        "id": "_qhij_tKMKHd",
        "outputId": "73f55c16-5ec3-4920-b8e1-848c64ef3ef8"
      },
      "execution_count": 20,
      "outputs": [
        {
          "output_type": "stream",
          "name": "stdout",
          "text": [
            " [1]  1  3  5  7  9 11 13 15 17 19 21 23 25 27 29 31 33 35 37 39 41 43 45 47 49\n"
          ]
        }
      ]
    },
    {
      "cell_type": "code",
      "source": [
        "x <- 1:5\n",
        "x[2] <- 42\n",
        "print(x)"
      ],
      "metadata": {
        "colab": {
          "base_uri": "https://localhost:8080/"
        },
        "id": "0UQTK31bNbPg",
        "outputId": "1858e142-8965-4fd1-c083-b7e99bccf03a"
      },
      "execution_count": 21,
      "outputs": [
        {
          "output_type": "stream",
          "name": "stdout",
          "text": [
            "[1]  1 42  3  4  5\n"
          ]
        }
      ]
    },
    {
      "cell_type": "code",
      "source": [
        "x <- 5:9\n",
        "x[3] <- 2\n",
        "x <- x[x>=7]\n",
        "print(length(x))"
      ],
      "metadata": {
        "colab": {
          "base_uri": "https://localhost:8080/"
        },
        "id": "zJvehNMWN2HJ",
        "outputId": "37ee4ce7-fae2-4d07-9285-406538608e2a"
      },
      "execution_count": 22,
      "outputs": [
        {
          "output_type": "stream",
          "name": "stdout",
          "text": [
            "[1] 2\n"
          ]
        }
      ]
    }
  ]
}