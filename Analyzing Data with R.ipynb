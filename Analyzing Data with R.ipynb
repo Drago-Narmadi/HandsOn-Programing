{
  "nbformat": 4,
  "nbformat_minor": 0,
  "metadata": {
    "colab": {
      "provenance": [],
      "authorship_tag": "ABX9TyNkHHvn4d4D11tx2zgNLIlB",
      "include_colab_link": true
    },
    "kernelspec": {
      "name": "ir",
      "display_name": "R"
    },
    "language_info": {
      "name": "R"
    }
  },
  "cells": [
    {
      "cell_type": "markdown",
      "metadata": {
        "id": "view-in-github",
        "colab_type": "text"
      },
      "source": [
        "<a href=\"https://colab.research.google.com/github/Drago-Narmadi/HandsOn-Programing/blob/main/Analyzing%20Data%20with%20R.ipynb\" target=\"_parent\"><img src=\"https://colab.research.google.com/assets/colab-badge.svg\" alt=\"Open In Colab\"/></a>"
      ]
    },
    {
      "cell_type": "markdown",
      "source": [
        "Importing Data"
      ],
      "metadata": {
        "id": "oRs_Yfu6oeOl"
      }
    },
    {
      "cell_type": "code",
      "execution_count": null,
      "metadata": {
        "colab": {
          "base_uri": "https://localhost:8080/"
        },
        "id": "eE9q4Y-CnZU4",
        "outputId": "7d338617-4a80-47df-8686-9be164b03f64"
      },
      "outputs": [
        {
          "output_type": "stream",
          "name": "stdout",
          "text": [
            "                     mpg cyl  disp  hp drat    wt  qsec vs am gear carb\n",
            "Mazda RX4           21.0   6 160.0 110 3.90 2.620 16.46  0  1    4    4\n",
            "Mazda RX4 Wag       21.0   6 160.0 110 3.90 2.875 17.02  0  1    4    4\n",
            "Datsun 710          22.8   4 108.0  93 3.85 2.320 18.61  1  1    4    1\n",
            "Hornet 4 Drive      21.4   6 258.0 110 3.08 3.215 19.44  1  0    3    1\n",
            "Hornet Sportabout   18.7   8 360.0 175 3.15 3.440 17.02  0  0    3    2\n",
            "Valiant             18.1   6 225.0 105 2.76 3.460 20.22  1  0    3    1\n",
            "Duster 360          14.3   8 360.0 245 3.21 3.570 15.84  0  0    3    4\n",
            "Merc 240D           24.4   4 146.7  62 3.69 3.190 20.00  1  0    4    2\n",
            "Merc 230            22.8   4 140.8  95 3.92 3.150 22.90  1  0    4    2\n",
            "Merc 280            19.2   6 167.6 123 3.92 3.440 18.30  1  0    4    4\n",
            "Merc 280C           17.8   6 167.6 123 3.92 3.440 18.90  1  0    4    4\n",
            "Merc 450SE          16.4   8 275.8 180 3.07 4.070 17.40  0  0    3    3\n",
            "Merc 450SL          17.3   8 275.8 180 3.07 3.730 17.60  0  0    3    3\n",
            "Merc 450SLC         15.2   8 275.8 180 3.07 3.780 18.00  0  0    3    3\n",
            "Cadillac Fleetwood  10.4   8 472.0 205 2.93 5.250 17.98  0  0    3    4\n",
            "Lincoln Continental 10.4   8 460.0 215 3.00 5.424 17.82  0  0    3    4\n",
            "Chrysler Imperial   14.7   8 440.0 230 3.23 5.345 17.42  0  0    3    4\n",
            "Fiat 128            32.4   4  78.7  66 4.08 2.200 19.47  1  1    4    1\n",
            "Honda Civic         30.4   4  75.7  52 4.93 1.615 18.52  1  1    4    2\n",
            "Toyota Corolla      33.9   4  71.1  65 4.22 1.835 19.90  1  1    4    1\n",
            "Toyota Corona       21.5   4 120.1  97 3.70 2.465 20.01  1  0    3    1\n",
            "Dodge Challenger    15.5   8 318.0 150 2.76 3.520 16.87  0  0    3    2\n",
            "AMC Javelin         15.2   8 304.0 150 3.15 3.435 17.30  0  0    3    2\n",
            "Camaro Z28          13.3   8 350.0 245 3.73 3.840 15.41  0  0    3    4\n",
            "Pontiac Firebird    19.2   8 400.0 175 3.08 3.845 17.05  0  0    3    2\n",
            "Fiat X1-9           27.3   4  79.0  66 4.08 1.935 18.90  1  1    4    1\n",
            "Porsche 914-2       26.0   4 120.3  91 4.43 2.140 16.70  0  1    5    2\n",
            "Lotus Europa        30.4   4  95.1 113 3.77 1.513 16.90  1  1    5    2\n",
            "Ford Pantera L      15.8   8 351.0 264 4.22 3.170 14.50  0  1    5    4\n",
            "Ferrari Dino        19.7   6 145.0 175 3.62 2.770 15.50  0  1    5    6\n",
            "Maserati Bora       15.0   8 301.0 335 3.54 3.570 14.60  0  1    5    8\n",
            "Volvo 142E          21.4   4 121.0 109 4.11 2.780 18.60  1  1    4    2\n"
          ]
        }
      ],
      "source": [
        "print(mtcars)"
      ]
    },
    {
      "cell_type": "markdown",
      "source": [
        "Summary Statistics"
      ],
      "metadata": {
        "id": "DrBjlWRJprqN"
      }
    },
    {
      "cell_type": "code",
      "source": [
        "summary (mtcars)"
      ],
      "metadata": {
        "colab": {
          "base_uri": "https://localhost:8080/",
          "height": 382
        },
        "id": "T0doNPXWpth0",
        "outputId": "ab353475-7d85-4926-a90f-edc969e135ab"
      },
      "execution_count": null,
      "outputs": [
        {
          "output_type": "display_data",
          "data": {
            "text/plain": [
              "      mpg             cyl             disp             hp       \n",
              " Min.   :10.40   Min.   :4.000   Min.   : 71.1   Min.   : 52.0  \n",
              " 1st Qu.:15.43   1st Qu.:4.000   1st Qu.:120.8   1st Qu.: 96.5  \n",
              " Median :19.20   Median :6.000   Median :196.3   Median :123.0  \n",
              " Mean   :20.09   Mean   :6.188   Mean   :230.7   Mean   :146.7  \n",
              " 3rd Qu.:22.80   3rd Qu.:8.000   3rd Qu.:326.0   3rd Qu.:180.0  \n",
              " Max.   :33.90   Max.   :8.000   Max.   :472.0   Max.   :335.0  \n",
              "      drat             wt             qsec             vs        \n",
              " Min.   :2.760   Min.   :1.513   Min.   :14.50   Min.   :0.0000  \n",
              " 1st Qu.:3.080   1st Qu.:2.581   1st Qu.:16.89   1st Qu.:0.0000  \n",
              " Median :3.695   Median :3.325   Median :17.71   Median :0.0000  \n",
              " Mean   :3.597   Mean   :3.217   Mean   :17.85   Mean   :0.4375  \n",
              " 3rd Qu.:3.920   3rd Qu.:3.610   3rd Qu.:18.90   3rd Qu.:1.0000  \n",
              " Max.   :4.930   Max.   :5.424   Max.   :22.90   Max.   :1.0000  \n",
              "       am              gear            carb      \n",
              " Min.   :0.0000   Min.   :3.000   Min.   :1.000  \n",
              " 1st Qu.:0.0000   1st Qu.:3.000   1st Qu.:2.000  \n",
              " Median :0.0000   Median :4.000   Median :2.000  \n",
              " Mean   :0.4062   Mean   :3.688   Mean   :2.812  \n",
              " 3rd Qu.:1.0000   3rd Qu.:4.000   3rd Qu.:4.000  \n",
              " Max.   :1.0000   Max.   :5.000   Max.   :8.000  "
            ]
          },
          "metadata": {}
        }
      ]
    },
    {
      "cell_type": "markdown",
      "source": [
        "Variance & Standard Deviation"
      ],
      "metadata": {
        "id": "IMfEVqrCp_Qk"
      }
    },
    {
      "cell_type": "code",
      "source": [
        "var(mtcars$mpg)\n",
        "sd(mtcars$mpg)"
      ],
      "metadata": {
        "colab": {
          "base_uri": "https://localhost:8080/",
          "height": 52
        },
        "id": "kyPTdsDfp__F",
        "outputId": "78e3d529-7afa-40ec-b46f-bb38d3db86ad"
      },
      "execution_count": null,
      "outputs": [
        {
          "output_type": "display_data",
          "data": {
            "text/html": [
              "36.3241028225806"
            ],
            "text/markdown": "36.3241028225806",
            "text/latex": "36.3241028225806",
            "text/plain": [
              "[1] 36.3241"
            ]
          },
          "metadata": {}
        },
        {
          "output_type": "display_data",
          "data": {
            "text/html": [
              "6.0269480520891"
            ],
            "text/markdown": "6.0269480520891",
            "text/latex": "6.0269480520891",
            "text/plain": [
              "[1] 6.026948"
            ]
          },
          "metadata": {}
        }
      ]
    },
    {
      "cell_type": "markdown",
      "source": [
        "Basic Operations"
      ],
      "metadata": {
        "id": "jGueMnJzqmKs"
      }
    },
    {
      "cell_type": "code",
      "source": [
        "sum(mtcars$wt)"
      ],
      "metadata": {
        "id": "XHJ3FYdPqlok",
        "colab": {
          "base_uri": "https://localhost:8080/",
          "height": 34
        },
        "outputId": "ce9664b3-c2ba-47db-bfff-550fc29d485c"
      },
      "execution_count": null,
      "outputs": [
        {
          "output_type": "display_data",
          "data": {
            "text/html": [
              "102.952"
            ],
            "text/markdown": "102.952",
            "text/latex": "102.952",
            "text/plain": [
              "[1] 102.952"
            ]
          },
          "metadata": {}
        }
      ]
    },
    {
      "cell_type": "code",
      "source": [
        "mtcars[mtcars$hp==max(mtcars$hp),]"
      ],
      "metadata": {
        "colab": {
          "base_uri": "https://localhost:8080/",
          "height": 167
        },
        "id": "SOn6bD8fsU-c",
        "outputId": "152503b3-537e-4fd8-c5da-efa2e9d75a10"
      },
      "execution_count": null,
      "outputs": [
        {
          "output_type": "display_data",
          "data": {
            "text/html": [
              "<table class=\"dataframe\">\n",
              "<caption>A data.frame: 1 × 11</caption>\n",
              "<thead>\n",
              "\t<tr><th></th><th scope=col>mpg</th><th scope=col>cyl</th><th scope=col>disp</th><th scope=col>hp</th><th scope=col>drat</th><th scope=col>wt</th><th scope=col>qsec</th><th scope=col>vs</th><th scope=col>am</th><th scope=col>gear</th><th scope=col>carb</th></tr>\n",
              "\t<tr><th></th><th scope=col>&lt;dbl&gt;</th><th scope=col>&lt;dbl&gt;</th><th scope=col>&lt;dbl&gt;</th><th scope=col>&lt;dbl&gt;</th><th scope=col>&lt;dbl&gt;</th><th scope=col>&lt;dbl&gt;</th><th scope=col>&lt;dbl&gt;</th><th scope=col>&lt;dbl&gt;</th><th scope=col>&lt;dbl&gt;</th><th scope=col>&lt;dbl&gt;</th><th scope=col>&lt;dbl&gt;</th></tr>\n",
              "</thead>\n",
              "<tbody>\n",
              "\t<tr><th scope=row>Maserati Bora</th><td>15</td><td>8</td><td>301</td><td>335</td><td>3.54</td><td>3.57</td><td>14.6</td><td>0</td><td>1</td><td>5</td><td>8</td></tr>\n",
              "</tbody>\n",
              "</table>\n"
            ],
            "text/markdown": "\nA data.frame: 1 × 11\n\n| <!--/--> | mpg &lt;dbl&gt; | cyl &lt;dbl&gt; | disp &lt;dbl&gt; | hp &lt;dbl&gt; | drat &lt;dbl&gt; | wt &lt;dbl&gt; | qsec &lt;dbl&gt; | vs &lt;dbl&gt; | am &lt;dbl&gt; | gear &lt;dbl&gt; | carb &lt;dbl&gt; |\n|---|---|---|---|---|---|---|---|---|---|---|---|\n| Maserati Bora | 15 | 8 | 301 | 335 | 3.54 | 3.57 | 14.6 | 0 | 1 | 5 | 8 |\n\n",
            "text/latex": "A data.frame: 1 × 11\n\\begin{tabular}{r|lllllllllll}\n  & mpg & cyl & disp & hp & drat & wt & qsec & vs & am & gear & carb\\\\\n  & <dbl> & <dbl> & <dbl> & <dbl> & <dbl> & <dbl> & <dbl> & <dbl> & <dbl> & <dbl> & <dbl>\\\\\n\\hline\n\tMaserati Bora & 15 & 8 & 301 & 335 & 3.54 & 3.57 & 14.6 & 0 & 1 & 5 & 8\\\\\n\\end{tabular}\n",
            "text/plain": [
              "              mpg cyl disp hp  drat wt   qsec vs am gear carb\n",
              "Maserati Bora 15  8   301  335 3.54 3.57 14.6 0  1  5    8   "
            ]
          },
          "metadata": {}
        }
      ]
    },
    {
      "cell_type": "code",
      "source": [
        "e <- mtcars[mtcars$gear ==4,]\n",
        "print(min(e$hp))"
      ],
      "metadata": {
        "colab": {
          "base_uri": "https://localhost:8080/"
        },
        "id": "YeO5_B97tHg7",
        "outputId": "c43922f7-ac3c-4046-aa95-c28086fc17e6"
      },
      "execution_count": null,
      "outputs": [
        {
          "output_type": "stream",
          "name": "stdout",
          "text": [
            "[1] 52\n"
          ]
        }
      ]
    },
    {
      "cell_type": "markdown",
      "source": [
        "Filtering Data"
      ],
      "metadata": {
        "id": "Aoh_X01ntlQO"
      }
    },
    {
      "cell_type": "code",
      "source": [
        "x <- mtcars[mtcars$am == 0,]\n",
        "x[x$qsec == min(x$qsec),]"
      ],
      "metadata": {
        "colab": {
          "base_uri": "https://localhost:8080/",
          "height": 167
        },
        "id": "LcFsmVL9tl2s",
        "outputId": "dd595902-d152-485b-f662-792bd043bd20"
      },
      "execution_count": null,
      "outputs": [
        {
          "output_type": "display_data",
          "data": {
            "text/html": [
              "<table class=\"dataframe\">\n",
              "<caption>A data.frame: 1 × 11</caption>\n",
              "<thead>\n",
              "\t<tr><th></th><th scope=col>mpg</th><th scope=col>cyl</th><th scope=col>disp</th><th scope=col>hp</th><th scope=col>drat</th><th scope=col>wt</th><th scope=col>qsec</th><th scope=col>vs</th><th scope=col>am</th><th scope=col>gear</th><th scope=col>carb</th></tr>\n",
              "\t<tr><th></th><th scope=col>&lt;dbl&gt;</th><th scope=col>&lt;dbl&gt;</th><th scope=col>&lt;dbl&gt;</th><th scope=col>&lt;dbl&gt;</th><th scope=col>&lt;dbl&gt;</th><th scope=col>&lt;dbl&gt;</th><th scope=col>&lt;dbl&gt;</th><th scope=col>&lt;dbl&gt;</th><th scope=col>&lt;dbl&gt;</th><th scope=col>&lt;dbl&gt;</th><th scope=col>&lt;dbl&gt;</th></tr>\n",
              "</thead>\n",
              "<tbody>\n",
              "\t<tr><th scope=row>Camaro Z28</th><td>13.3</td><td>8</td><td>350</td><td>245</td><td>3.73</td><td>3.84</td><td>15.41</td><td>0</td><td>0</td><td>3</td><td>4</td></tr>\n",
              "</tbody>\n",
              "</table>\n"
            ],
            "text/markdown": "\nA data.frame: 1 × 11\n\n| <!--/--> | mpg &lt;dbl&gt; | cyl &lt;dbl&gt; | disp &lt;dbl&gt; | hp &lt;dbl&gt; | drat &lt;dbl&gt; | wt &lt;dbl&gt; | qsec &lt;dbl&gt; | vs &lt;dbl&gt; | am &lt;dbl&gt; | gear &lt;dbl&gt; | carb &lt;dbl&gt; |\n|---|---|---|---|---|---|---|---|---|---|---|---|\n| Camaro Z28 | 13.3 | 8 | 350 | 245 | 3.73 | 3.84 | 15.41 | 0 | 0 | 3 | 4 |\n\n",
            "text/latex": "A data.frame: 1 × 11\n\\begin{tabular}{r|lllllllllll}\n  & mpg & cyl & disp & hp & drat & wt & qsec & vs & am & gear & carb\\\\\n  & <dbl> & <dbl> & <dbl> & <dbl> & <dbl> & <dbl> & <dbl> & <dbl> & <dbl> & <dbl> & <dbl>\\\\\n\\hline\n\tCamaro Z28 & 13.3 & 8 & 350 & 245 & 3.73 & 3.84 & 15.41 & 0 & 0 & 3 & 4\\\\\n\\end{tabular}\n",
            "text/plain": [
              "           mpg  cyl disp hp  drat wt   qsec  vs am gear carb\n",
              "Camaro Z28 13.3 8   350  245 3.73 3.84 15.41 0  0  3    4   "
            ]
          },
          "metadata": {}
        }
      ]
    },
    {
      "cell_type": "code",
      "source": [
        "x <- mtcars[mtcars$hp > 100 & mtcars$gear < 5, ]\n",
        "average_qsec <- mean(x$qsec)\n",
        "print(average_qsec)"
      ],
      "metadata": {
        "colab": {
          "base_uri": "https://localhost:8080/"
        },
        "id": "5xdWcObOuXBa",
        "outputId": "25441a2e-87eb-4a51-976e-1b7558e95e80"
      },
      "execution_count": null,
      "outputs": [
        {
          "output_type": "stream",
          "name": "stdout",
          "text": [
            "[1] 17.61316\n"
          ]
        }
      ]
    },
    {
      "cell_type": "markdown",
      "source": [
        "Correlation"
      ],
      "metadata": {
        "id": "YXNkb9isuq-H"
      }
    },
    {
      "cell_type": "code",
      "source": [
        "r <- cor(mtcars)\n",
        "r <- round(r,2)\n",
        "print(r)"
      ],
      "metadata": {
        "colab": {
          "base_uri": "https://localhost:8080/"
        },
        "id": "hCkZEeU4upEu",
        "outputId": "9fcb68ff-551b-4497-a6e6-192a69a60c96"
      },
      "execution_count": null,
      "outputs": [
        {
          "output_type": "stream",
          "name": "stdout",
          "text": [
            "       mpg   cyl  disp    hp  drat    wt  qsec    vs    am  gear  carb\n",
            "mpg   1.00 -0.85 -0.85 -0.78  0.68 -0.87  0.42  0.66  0.60  0.48 -0.55\n",
            "cyl  -0.85  1.00  0.90  0.83 -0.70  0.78 -0.59 -0.81 -0.52 -0.49  0.53\n",
            "disp -0.85  0.90  1.00  0.79 -0.71  0.89 -0.43 -0.71 -0.59 -0.56  0.39\n",
            "hp   -0.78  0.83  0.79  1.00 -0.45  0.66 -0.71 -0.72 -0.24 -0.13  0.75\n",
            "drat  0.68 -0.70 -0.71 -0.45  1.00 -0.71  0.09  0.44  0.71  0.70 -0.09\n",
            "wt   -0.87  0.78  0.89  0.66 -0.71  1.00 -0.17 -0.55 -0.69 -0.58  0.43\n",
            "qsec  0.42 -0.59 -0.43 -0.71  0.09 -0.17  1.00  0.74 -0.23 -0.21 -0.66\n",
            "vs    0.66 -0.81 -0.71 -0.72  0.44 -0.55  0.74  1.00  0.17  0.21 -0.57\n",
            "am    0.60 -0.52 -0.59 -0.24  0.71 -0.69 -0.23  0.17  1.00  0.79  0.06\n",
            "gear  0.48 -0.49 -0.56 -0.13  0.70 -0.58 -0.21  0.21  0.79  1.00  0.27\n",
            "carb -0.55  0.53  0.39  0.75 -0.09  0.43 -0.66 -0.57  0.06  0.27  1.00\n"
          ]
        }
      ]
    },
    {
      "cell_type": "code",
      "source": [
        "mean1 <- mean(mtcars$mpg)\n",
        "sd1 <- sd(mtcars$mpg)\n",
        "\n",
        "lowr <- mean1-sd1\n",
        "uppr <- mean1+sd1\n",
        "\n",
        "range <- subset(mtcars,mpg >= lowr & mpg <= uppr,select=c(mpg))\n",
        "print(length(range$mpg))"
      ],
      "metadata": {
        "colab": {
          "base_uri": "https://localhost:8080/"
        },
        "id": "zxRl4T4Av2l2",
        "outputId": "4d2d083d-473f-45a8-aea5-57c1c791c16f"
      },
      "execution_count": null,
      "outputs": [
        {
          "output_type": "stream",
          "name": "stdout",
          "text": [
            "[1] 24\n"
          ]
        }
      ]
    },
    {
      "cell_type": "markdown",
      "source": [
        "Grouping Data"
      ],
      "metadata": {
        "id": "hNgKBtI_x4Gq"
      }
    },
    {
      "cell_type": "code",
      "source": [
        "by(mtcars$hp,mtcars$am,mean)"
      ],
      "metadata": {
        "colab": {
          "base_uri": "https://localhost:8080/",
          "height": 104
        },
        "id": "pA3QGO92x4pi",
        "outputId": "266e5f35-c07b-4607-f37f-fb4c30e78763"
      },
      "execution_count": null,
      "outputs": [
        {
          "output_type": "display_data",
          "data": {
            "text/plain": [
              "mtcars$am: 0\n",
              "[1] 160.2632\n",
              "------------------------------------------------------------ \n",
              "mtcars$am: 1\n",
              "[1] 126.8462"
            ]
          },
          "metadata": {}
        }
      ]
    },
    {
      "cell_type": "code",
      "source": [
        "tapply(mtcars$hp,mtcars$am,mean)"
      ],
      "metadata": {
        "colab": {
          "base_uri": "https://localhost:8080/",
          "height": 34
        },
        "id": "bodL9VRsyWyz",
        "outputId": "2f9b5197-d101-47a6-e596-0d01be8a581b"
      },
      "execution_count": null,
      "outputs": [
        {
          "output_type": "display_data",
          "data": {
            "text/html": [
              "<style>\n",
              ".dl-inline {width: auto; margin:0; padding: 0}\n",
              ".dl-inline>dt, .dl-inline>dd {float: none; width: auto; display: inline-block}\n",
              ".dl-inline>dt::after {content: \":\\0020\"; padding-right: .5ex}\n",
              ".dl-inline>dt:not(:first-of-type) {padding-left: .5ex}\n",
              "</style><dl class=dl-inline><dt>0</dt><dd>160.263157894737</dd><dt>1</dt><dd>126.846153846154</dd></dl>\n"
            ],
            "text/markdown": "0\n:   160.2631578947371\n:   126.846153846154\n\n",
            "text/latex": "\\begin{description*}\n\\item[0] 160.263157894737\n\\item[1] 126.846153846154\n\\end{description*}\n",
            "text/plain": [
              "       0        1 \n",
              "160.2632 126.8462 "
            ]
          },
          "metadata": {}
        }
      ]
    },
    {
      "cell_type": "code",
      "source": [
        "car <- mtcars[mtcars$am == 0,]\n",
        "print(tapply(car$hp,car$cyl,max))"
      ],
      "metadata": {
        "colab": {
          "base_uri": "https://localhost:8080/"
        },
        "id": "u1Fk9UJByyX4",
        "outputId": "611acfc9-5240-41ab-c104-5e6a924f8b20"
      },
      "execution_count": null,
      "outputs": [
        {
          "output_type": "stream",
          "name": "stdout",
          "text": [
            "  4   6   8 \n",
            " 97 123 245 \n"
          ]
        }
      ]
    },
    {
      "cell_type": "code",
      "source": [
        "tapply(mtcars$hp, mtcars$cyl, max)\n"
      ],
      "metadata": {
        "colab": {
          "base_uri": "https://localhost:8080/",
          "height": 34
        },
        "id": "_umfLmvbzs1p",
        "outputId": "5dbf1aba-13de-4de6-8f37-98778e7a16cb"
      },
      "execution_count": null,
      "outputs": [
        {
          "output_type": "display_data",
          "data": {
            "text/html": [
              "<style>\n",
              ".dl-inline {width: auto; margin:0; padding: 0}\n",
              ".dl-inline>dt, .dl-inline>dd {float: none; width: auto; display: inline-block}\n",
              ".dl-inline>dt::after {content: \":\\0020\"; padding-right: .5ex}\n",
              ".dl-inline>dt:not(:first-of-type) {padding-left: .5ex}\n",
              "</style><dl class=dl-inline><dt>4</dt><dd>113</dd><dt>6</dt><dd>175</dd><dt>8</dt><dd>335</dd></dl>\n"
            ],
            "text/markdown": "4\n:   1136\n:   1758\n:   335\n\n",
            "text/latex": "\\begin{description*}\n\\item[4] 113\n\\item[6] 175\n\\item[8] 335\n\\end{description*}\n",
            "text/plain": [
              "  4   6   8 \n",
              "113 175 335 "
            ]
          },
          "metadata": {}
        }
      ]
    },
    {
      "cell_type": "code",
      "source": [
        "mtcars[mtcars$gear>4,'hp']"
      ],
      "metadata": {
        "colab": {
          "base_uri": "https://localhost:8080/",
          "height": 34
        },
        "id": "vflzWZQVWxFZ",
        "outputId": "1f6293fb-80bc-4b34-ac6a-43a95c5f6b5f"
      },
      "execution_count": 1,
      "outputs": [
        {
          "output_type": "display_data",
          "data": {
            "text/html": [
              "<style>\n",
              ".list-inline {list-style: none; margin:0; padding: 0}\n",
              ".list-inline>li {display: inline-block}\n",
              ".list-inline>li:not(:last-child)::after {content: \"\\00b7\"; padding: 0 .5ex}\n",
              "</style>\n",
              "<ol class=list-inline><li>91</li><li>113</li><li>264</li><li>175</li><li>335</li></ol>\n"
            ],
            "text/markdown": "1. 91\n2. 113\n3. 264\n4. 175\n5. 335\n\n\n",
            "text/latex": "\\begin{enumerate*}\n\\item 91\n\\item 113\n\\item 264\n\\item 175\n\\item 335\n\\end{enumerate*}\n",
            "text/plain": [
              "[1]  91 113 264 175 335"
            ]
          },
          "metadata": {}
        }
      ]
    }
  ]
}