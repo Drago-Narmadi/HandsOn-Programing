{
  "nbformat": 4,
  "nbformat_minor": 0,
  "metadata": {
    "colab": {
      "provenance": [],
      "authorship_tag": "ABX9TyM5k3Vhf/Psn3k3/QFv5akt",
      "include_colab_link": true
    },
    "kernelspec": {
      "name": "ir",
      "display_name": "R"
    },
    "language_info": {
      "name": "R"
    }
  },
  "cells": [
    {
      "cell_type": "markdown",
      "metadata": {
        "id": "view-in-github",
        "colab_type": "text"
      },
      "source": [
        "<a href=\"https://colab.research.google.com/github/Drago-Narmadi/HandsOn-Programing/blob/main/Data%20Structures%20R(2).ipynb\" target=\"_parent\"><img src=\"https://colab.research.google.com/assets/colab-badge.svg\" alt=\"Open In Colab\"/></a>"
      ]
    },
    {
      "cell_type": "markdown",
      "source": [
        "Matrix"
      ],
      "metadata": {
        "id": "SAgHnOssKmYZ"
      }
    },
    {
      "cell_type": "code",
      "execution_count": null,
      "metadata": {
        "colab": {
          "base_uri": "https://localhost:8080/"
        },
        "id": "2lHR9dy2Kc6u",
        "outputId": "74b5d3de-39e7-4cb9-a992-eb7ab50327f5"
      },
      "outputs": [
        {
          "output_type": "stream",
          "name": "stdout",
          "text": [
            "     [,1] [,2] [,3]\n",
            "[1,]    1    3    5\n",
            "[2,]    2    4    6\n"
          ]
        }
      ],
      "source": [
        "x <- matrix(c(1,2,3,4,5,6), nrow = 2, ncol = 3)\n",
        "print(x)"
      ]
    },
    {
      "cell_type": "code",
      "source": [
        "x <- matrix(c(1,2,3,4,5,6), nrow = 2, ncol = 3)\n",
        "print(x)\n",
        "print(x[1,3])\n",
        "print(x[1,])\n",
        "print(x[,1])"
      ],
      "metadata": {
        "colab": {
          "base_uri": "https://localhost:8080/"
        },
        "id": "bVMjGj5lLMqF",
        "outputId": "9fe6cb93-accc-4520-943b-02400f90ed70"
      },
      "execution_count": null,
      "outputs": [
        {
          "output_type": "stream",
          "name": "stdout",
          "text": [
            "     [,1] [,2] [,3]\n",
            "[1,]    1    3    5\n",
            "[2,]    2    4    6\n",
            "[1] 5\n",
            "[1] 1 3 5\n",
            "[1] 1 2\n"
          ]
        }
      ]
    },
    {
      "cell_type": "code",
      "source": [
        "x <- matrix(c(1,2,3,4,5,6),nrow =2,ncol =3)\n",
        "print(t(x))"
      ],
      "metadata": {
        "colab": {
          "base_uri": "https://localhost:8080/"
        },
        "id": "Rl8pxrsAMGuH",
        "outputId": "80c7437c-b4e1-49d3-ae50-fbbc644f32c2"
      },
      "execution_count": null,
      "outputs": [
        {
          "output_type": "stream",
          "name": "stdout",
          "text": [
            "     [,1] [,2]\n",
            "[1,]    1    2\n",
            "[2,]    3    4\n",
            "[3,]    5    6\n"
          ]
        }
      ]
    },
    {
      "cell_type": "code",
      "source": [
        "a <- matrix(c(8, 0, 2, 5), ncol = 2)\n",
        "a <- t(a)\n",
        "print(a[2, 1])"
      ],
      "metadata": {
        "colab": {
          "base_uri": "https://localhost:8080/"
        },
        "id": "HApGa0GiNio6",
        "outputId": "35ac5cef-2c7d-4b88-9f49-8c219b22339a"
      },
      "execution_count": null,
      "outputs": [
        {
          "output_type": "stream",
          "name": "stdout",
          "text": [
            "[1] 2\n"
          ]
        }
      ]
    },
    {
      "cell_type": "code",
      "source": [
        "x <- data.frame(\"id\"=1:2,\"name\"=c(\"James\",\"Amy\"),\"age\"=c(42,18))\n",
        "print(x)"
      ],
      "metadata": {
        "colab": {
          "base_uri": "https://localhost:8080/"
        },
        "id": "kmRQmo_4N9ay",
        "outputId": "2f3c6b8f-aa0d-4312-c442-e657f4404653"
      },
      "execution_count": null,
      "outputs": [
        {
          "output_type": "stream",
          "name": "stdout",
          "text": [
            "  id  name age\n",
            "1  1 James  42\n",
            "2  2   Amy  18\n"
          ]
        }
      ]
    },
    {
      "cell_type": "code",
      "source": [
        "x <- data.frame(\"id\" = 1:2, \"name\" = c(\"James\", \"Amy\"), \"age\" = c(42,18))\n",
        "#Second column\n",
        "print(x[[2]])\n",
        "print(\"------\")\n",
        "#the name column\n",
        "print(x[[\"name\"]])\n",
        "print(\"------\")\n",
        "#the same as\n",
        "print(x$name)\n",
        "print(\"------\")\n",
        "print(x[2])\n",
        "print(\"------\")\n",
        "print(x[[2,3]])"
      ],
      "metadata": {
        "colab": {
          "base_uri": "https://localhost:8080/"
        },
        "id": "1fwJQ7OwOvYa",
        "outputId": "326f7925-d991-4383-8905-2e5c54a60bc1"
      },
      "execution_count": null,
      "outputs": [
        {
          "output_type": "stream",
          "name": "stdout",
          "text": [
            "[1] \"James\" \"Amy\"  \n",
            "[1] \"------\"\n",
            "[1] \"James\" \"Amy\"  \n",
            "[1] \"------\"\n",
            "[1] \"James\" \"Amy\"  \n",
            "[1] \"------\"\n",
            "   name\n",
            "1 James\n",
            "2   Amy\n",
            "[1] \"------\"\n",
            "[1] 18\n"
          ]
        }
      ]
    },
    {
      "cell_type": "code",
      "source": [
        "s <- readline('stdin')\n",
        "s <- as.integer(s[1])\n",
        "x <- data.frame(\n",
        " \"name\" = c(\"James\", \"Amy\", \"David\", \"Bob\", \"John\"),\n",
        "\"year\" = c(\"1988\",\"2001\", \"1996\", \"2004\", \"1999\"))\n",
        " print(paste(x[[s,1]],x[[s,2]],sep=\"\"))"
      ],
      "metadata": {
        "id": "ukPuandMRW1l",
        "colab": {
          "base_uri": "https://localhost:8080/"
        },
        "outputId": "0e181e4a-0911-4b7e-bdc7-57d5c8645edb"
      },
      "execution_count": null,
      "outputs": [
        {
          "output_type": "stream",
          "name": "stdout",
          "text": [
            "stdin1\n",
            "[1] \"James1988\"\n"
          ]
        }
      ]
    },
    {
      "cell_type": "code",
      "source": [
        "x <- data.frame(\n",
        "  \"product\"=c(\"Banana\", \"Apple\", \"Orange\"),\n",
        "  \"price\"=c(5.99, 2.49, 3.0))\n",
        "print(x$price[2])"
      ],
      "metadata": {
        "id": "MMzOJ24bPX0a",
        "colab": {
          "base_uri": "https://localhost:8080/"
        },
        "outputId": "3ccb47b0-ed08-4f28-e02f-ee0bd730cb79"
      },
      "execution_count": null,
      "outputs": [
        {
          "output_type": "stream",
          "name": "stdout",
          "text": [
            "[1] 2.49\n"
          ]
        }
      ]
    },
    {
      "cell_type": "code",
      "source": [
        "x <- data.frame(\"id\"=1:2,\"name\"=c(\"James\",\"Amy\"),\"age\"=c(42,18))\n",
        "x$country <- c(\"USA\",\"Italy\")\n",
        "print(x[x$age>21,])\n",
        "subset(x,age>21)"
      ],
      "metadata": {
        "colab": {
          "base_uri": "https://localhost:8080/",
          "height": 164
        },
        "id": "KGx3vnl0aEmq",
        "outputId": "a7a7dbec-4564-4089-b132-3ce1e58c2cce"
      },
      "execution_count": null,
      "outputs": [
        {
          "output_type": "stream",
          "name": "stdout",
          "text": [
            "  id  name age country\n",
            "1  1 James  42     USA\n"
          ]
        },
        {
          "output_type": "display_data",
          "data": {
            "text/html": [
              "<table class=\"dataframe\">\n",
              "<caption>A data.frame: 1 × 4</caption>\n",
              "<thead>\n",
              "\t<tr><th></th><th scope=col>id</th><th scope=col>name</th><th scope=col>age</th><th scope=col>country</th></tr>\n",
              "\t<tr><th></th><th scope=col>&lt;int&gt;</th><th scope=col>&lt;chr&gt;</th><th scope=col>&lt;dbl&gt;</th><th scope=col>&lt;chr&gt;</th></tr>\n",
              "</thead>\n",
              "<tbody>\n",
              "\t<tr><th scope=row>1</th><td>1</td><td>James</td><td>42</td><td>USA</td></tr>\n",
              "</tbody>\n",
              "</table>\n"
            ],
            "text/markdown": "\nA data.frame: 1 × 4\n\n| <!--/--> | id &lt;int&gt; | name &lt;chr&gt; | age &lt;dbl&gt; | country &lt;chr&gt; |\n|---|---|---|---|---|\n| 1 | 1 | James | 42 | USA |\n\n",
            "text/latex": "A data.frame: 1 × 4\n\\begin{tabular}{r|llll}\n  & id & name & age & country\\\\\n  & <int> & <chr> & <dbl> & <chr>\\\\\n\\hline\n\t1 & 1 & James & 42 & USA\\\\\n\\end{tabular}\n",
            "text/plain": [
              "  id name  age country\n",
              "1 1  James 42  USA    "
            ]
          },
          "metadata": {}
        }
      ]
    },
    {
      "cell_type": "code",
      "source": [
        "x <- data.frame(\"id\"=1:2,\"name\"=c(\"James\",\"Amy\"),\"age\"=c(42,18))\n",
        "print(mean(x$age))"
      ],
      "metadata": {
        "colab": {
          "base_uri": "https://localhost:8080/"
        },
        "id": "yeLvJeDvcY1L",
        "outputId": "fddce813-4895-42ae-ee2e-2d07dbd6604f"
      },
      "execution_count": 1,
      "outputs": [
        {
          "output_type": "stream",
          "name": "stdout",
          "text": [
            "[1] 30\n"
          ]
        }
      ]
    },
    {
      "cell_type": "code",
      "source": [
        "x <- data.frame(\"id\" = 1:3, \"name\" = c(\"James\", \"Amy\", \"Bob\"), \"age\" = c(42,18, 33))\n",
        "gender <- factor(c(\"Male\", \"Female\", \"Male\"))\n",
        "print(levels(gender))\n",
        "print(\"----------\")\n",
        "print(table(gender))\n",
        "print(\"----------\")\n",
        "x$gender <- gender\n",
        "print(x)"
      ],
      "metadata": {
        "colab": {
          "base_uri": "https://localhost:8080/"
        },
        "id": "TGe1LFy6dXmx",
        "outputId": "45ba34c2-183c-4f3b-97e4-72fc19ef9fa5"
      },
      "execution_count": 11,
      "outputs": [
        {
          "output_type": "stream",
          "name": "stdout",
          "text": [
            "[1] \"Female\" \"Male\"  \n",
            "[1] \"----------\"\n",
            "gender\n",
            "Female   Male \n",
            "     1      2 \n",
            "[1] \"----------\"\n",
            "  id  name age gender\n",
            "1  1 James  42   Male\n",
            "2  2   Amy  18 Female\n",
            "3  3   Bob  33   Male\n"
          ]
        }
      ]
    },
    {
      "cell_type": "markdown",
      "source": [
        "The given code defines a dataframe of product prices. It includes two columns: price and tax.\n",
        "You need to create a new column for the dataframe called total, which should hold the sum of the price and tax columns for each row.\n",
        "Then, output the mean value of the total column."
      ],
      "metadata": {
        "id": "2AWnRchLfCA6"
      }
    },
    {
      "cell_type": "code",
      "source": [
        "products <- data.frame(\n",
        "  \"id\" = seq(1:8),\n",
        "  \"price\" = c(8000,3500,1200,19000,5000,4800,6700,9300),\n",
        "  \"tax\" = c(300,400,200,500,250,200,550,400)\n",
        ")\n",
        "products$total <- products$price + products$tax\n",
        "print(mean(products$total))"
      ],
      "metadata": {
        "colab": {
          "base_uri": "https://localhost:8080/"
        },
        "id": "DnoQateFfC5q",
        "outputId": "f7d416ff-8098-48d6-ee99-f6fb0ebda343"
      },
      "execution_count": 12,
      "outputs": [
        {
          "output_type": "stream",
          "name": "stdout",
          "text": [
            "[1] 7537.5\n"
          ]
        }
      ]
    },
    {
      "cell_type": "code",
      "source": [
        "x <- matrix(c(3, 1, 0, 8, 5, 3), nrow = 3)\n",
        "print(x[3, 1])"
      ],
      "metadata": {
        "colab": {
          "base_uri": "https://localhost:8080/"
        },
        "id": "vknUdVUCii69",
        "outputId": "1f6e81a6-8301-4f3c-9eee-3a0e66784a40"
      },
      "execution_count": 13,
      "outputs": [
        {
          "output_type": "stream",
          "name": "stdout",
          "text": [
            "[1] 0\n"
          ]
        }
      ]
    },
    {
      "cell_type": "code",
      "source": [
        "x <- data.frame(\n",
        "    \"a\" = c(7, 42, 3, 5),\n",
        "    \"b\" = c(\"a\",\"b\",\"c\",\"d\")\n",
        ")\n",
        "y <- subset(x, a < 10)\n",
        "z <- max(y$a)\n",
        "print(min(mean(y$a), z))"
      ],
      "metadata": {
        "colab": {
          "base_uri": "https://localhost:8080/"
        },
        "id": "apJ0kOcLimyF",
        "outputId": "974bc7ec-2eae-4993-d71d-240c12bcef79"
      },
      "execution_count": 14,
      "outputs": [
        {
          "output_type": "stream",
          "name": "stdout",
          "text": [
            "[1] 5\n"
          ]
        }
      ]
    },
    {
      "cell_type": "markdown",
      "source": [
        "You have a dataframe that includes grades of students.\n",
        "Your program needs to take a number as input, and output the number of students who have a grade greater than the given input.\n",
        "For example, for the input 89, the output should be:\n",
        "[1] 3\n",
        "as 3 students have grades greater than 89."
      ],
      "metadata": {
        "id": "nGLcktOijQdg"
      }
    },
    {
      "cell_type": "code",
      "source": [
        "input <- readline('stdin')\n",
        "x <- as.integer(input[1])\n",
        "\n",
        "data <- data.frame(\n",
        "  id = c(1, 2, 3, 4, 5, 6, 7, 8, 9, 10),\n",
        "  grade = c(75, 26, 54, 90, 86, 93, 48, 71, 66, 99)\n",
        ")\n",
        "\n",
        "count <- length(data$grade[data$grade > x])\n",
        "\n",
        "print(count)"
      ],
      "metadata": {
        "colab": {
          "base_uri": "https://localhost:8080/"
        },
        "id": "NatZu-Z7jQ4u",
        "outputId": "7d1a011b-3f36-4a86-d9d2-41dbd9f198ba"
      },
      "execution_count": 17,
      "outputs": [
        {
          "output_type": "stream",
          "name": "stdout",
          "text": [
            "stdin56\n",
            "[1] 7\n"
          ]
        }
      ]
    }
  ]
}