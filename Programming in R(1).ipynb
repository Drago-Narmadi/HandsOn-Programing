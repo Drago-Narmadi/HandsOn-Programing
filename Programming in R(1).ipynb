{
  "nbformat": 4,
  "nbformat_minor": 0,
  "metadata": {
    "colab": {
      "provenance": [],
      "authorship_tag": "ABX9TyMxzlri8EiwKAKaWr9zTDGQ",
      "include_colab_link": true
    },
    "kernelspec": {
      "name": "ir",
      "display_name": "R"
    },
    "language_info": {
      "name": "R"
    }
  },
  "cells": [
    {
      "cell_type": "markdown",
      "metadata": {
        "id": "view-in-github",
        "colab_type": "text"
      },
      "source": [
        "<a href=\"https://colab.research.google.com/github/Drago-Narmadi/HandsOn-Programing/blob/main/Programming%20in%20R(1).ipynb\" target=\"_parent\"><img src=\"https://colab.research.google.com/assets/colab-badge.svg\" alt=\"Open In Colab\"/></a>"
      ]
    },
    {
      "cell_type": "markdown",
      "source": [
        "Decision Making"
      ],
      "metadata": {
        "id": "AkeBNJICM2C1"
      }
    },
    {
      "cell_type": "code",
      "source": [
        "x <- 24\n",
        "if (x > 10){\n",
        "    print(\"x is greater than 10\")\n",
        "}"
      ],
      "metadata": {
        "colab": {
          "base_uri": "https://localhost:8080/"
        },
        "id": "n5VttCMUMIg9",
        "outputId": "0028302e-f67c-4129-e2af-26232bba4dcb"
      },
      "execution_count": 1,
      "outputs": [
        {
          "output_type": "stream",
          "name": "stdout",
          "text": [
            "[1] \"x is greater than 10\"\n"
          ]
        }
      ]
    },
    {
      "cell_type": "code",
      "source": [
        "x <- 42\n",
        "if(x>=100){\n",
        "  print('x is big')\n",
        "}else{\n",
        "  print(\" x is less than 100\")\n",
        "}"
      ],
      "metadata": {
        "colab": {
          "base_uri": "https://localhost:8080/"
        },
        "id": "gCAor7O5M3y0",
        "outputId": "e71baebf-e5c2-45b3-94ee-90e8030c0d51"
      },
      "execution_count": 3,
      "outputs": [
        {
          "output_type": "stream",
          "name": "stdout",
          "text": [
            "[1] \" x is less than 100\"\n"
          ]
        }
      ]
    },
    {
      "cell_type": "code",
      "source": [
        "num <- 3\n",
        "if (num == 1){\n",
        "  print(\"one\")\n",
        "}else if (num==2){\n",
        "print(\"two\")\n",
        "}else if (num==3){\n",
        "print(\"three\")\n",
        "}else{\n",
        "  print(\"Something else\")\n",
        "}"
      ],
      "metadata": {
        "colab": {
          "base_uri": "https://localhost:8080/"
        },
        "id": "nw_I6pa3NZv1",
        "outputId": "de2bd6cd-d7fe-499e-faa4-34bdba32fd81"
      },
      "execution_count": 4,
      "outputs": [
        {
          "output_type": "stream",
          "name": "stdout",
          "text": [
            "[1] \"three\"\n"
          ]
        }
      ]
    },
    {
      "cell_type": "markdown",
      "source": [
        "Logical Operators"
      ],
      "metadata": {
        "id": "n6rBjEkkPiNr"
      }
    },
    {
      "cell_type": "code",
      "source": [
        "#AND\n",
        "x <- 6\n",
        "y <- 2\n",
        "if (x>y & x<10){\n",
        "  print(\"Yes\")\n",
        "}"
      ],
      "metadata": {
        "colab": {
          "base_uri": "https://localhost:8080/"
        },
        "id": "1IYt30NLOENd",
        "outputId": "9b243929-9ccd-405e-effc-5621c1a7385a"
      },
      "execution_count": 5,
      "outputs": [
        {
          "output_type": "stream",
          "name": "stdout",
          "text": [
            "[1] \"Yes\"\n"
          ]
        }
      ]
    },
    {
      "cell_type": "code",
      "source": [
        "#OR\n",
        "x <- 6\n",
        "x <- 2\n",
        "if(x>y | x>100){\n",
        "  print(\"Yes\")\n",
        "}else{\n",
        "  print(\"No\")\n",
        "}"
      ],
      "metadata": {
        "colab": {
          "base_uri": "https://localhost:8080/"
        },
        "id": "nQRiIendP0fc",
        "outputId": "cad2a4dc-fb53-4230-a366-37364027985d"
      },
      "execution_count": 8,
      "outputs": [
        {
          "output_type": "stream",
          "name": "stdout",
          "text": [
            "[1] \"No\"\n"
          ]
        }
      ]
    },
    {
      "cell_type": "code",
      "source": [
        "#NOT\n",
        "x <- TRUE\n",
        "print(!x)"
      ],
      "metadata": {
        "colab": {
          "base_uri": "https://localhost:8080/"
        },
        "id": "gG3it5R2QOst",
        "outputId": "67d25d33-49ff-4531-dcc9-107268231046"
      },
      "execution_count": 9,
      "outputs": [
        {
          "output_type": "stream",
          "name": "stdout",
          "text": [
            "[1] FALSE\n"
          ]
        }
      ]
    },
    {
      "cell_type": "code",
      "source": [
        "(((15 > 4) & (8 < 9)) | (4 > 6))"
      ],
      "metadata": {
        "colab": {
          "base_uri": "https://localhost:8080/",
          "height": 34
        },
        "id": "hgWIxHrQQi3E",
        "outputId": "c1d5c700-0e2b-430e-af1f-684f21ee8070"
      },
      "execution_count": 10,
      "outputs": [
        {
          "output_type": "display_data",
          "data": {
            "text/html": [
              "TRUE"
            ],
            "text/markdown": "TRUE",
            "text/latex": "TRUE",
            "text/plain": [
              "[1] TRUE"
            ]
          },
          "metadata": {}
        }
      ]
    },
    {
      "cell_type": "markdown",
      "source": [
        "\n",
        "R provides a switch statement to test an expression against a list of values and makes the code much shorter, compared to using else if statements.\n",
        "\n",
        "\n"
      ],
      "metadata": {
        "id": "gWLjmZvhQwIL"
      }
    },
    {
      "cell_type": "code",
      "source": [
        "num <- 3\n",
        "result <- switch(\n",
        "  num,\n",
        "  \"One\",\n",
        "  \"Two\",\n",
        "  \"Three\",\n",
        "  \"Four\"\n",
        ")\n",
        "print(result)"
      ],
      "metadata": {
        "colab": {
          "base_uri": "https://localhost:8080/"
        },
        "id": "Qd2kmWm9Q5br",
        "outputId": "fc54d08f-3e0a-4d6a-f68a-033d3d144810"
      },
      "execution_count": 11,
      "outputs": [
        {
          "output_type": "stream",
          "name": "stdout",
          "text": [
            "[1] \"Three\"\n"
          ]
        }
      ]
    },
    {
      "cell_type": "code",
      "source": [
        "x <- \"c\"\n",
        "result <- switch(\n",
        "  x,\n",
        "  \"a\" = \"One\",\n",
        "  \"b\" = \"Two\",\n",
        "  \"c\" = \"Three\",\n",
        "  \"d\" = \"Four\"\n",
        ")\n",
        "print(result)   "
      ],
      "metadata": {
        "colab": {
          "base_uri": "https://localhost:8080/"
        },
        "id": "HoDBuxFhRVSr",
        "outputId": "cf06838e-bfa1-4944-98c6-4879bb74386a"
      },
      "execution_count": 14,
      "outputs": [
        {
          "output_type": "stream",
          "name": "stdout",
          "text": [
            "[1] \"Three\"\n"
          ]
        }
      ]
    },
    {
      "cell_type": "code",
      "source": [
        "state <- readLines('stdin')\n",
        "x <- state[1]\n",
        "result <- switch(\n",
        "    x,\n",
        "    \"CA\"= \"California\",\n",
        "    \"NY\"= \"New York\",\n",
        "    \"FL\" = \"Florida\",\n",
        "    \"OH\" =\"Ohio\"\n",
        ")\n",
        "print (result)"
      ],
      "metadata": {
        "colab": {
          "base_uri": "https://localhost:8080/"
        },
        "id": "Y1gV-yZPT4H8",
        "outputId": "6b6909a5-5540-4313-d2ee-216aa5850ff3"
      },
      "execution_count": 15,
      "outputs": [
        {
          "output_type": "stream",
          "name": "stdout",
          "text": [
            "NULL\n"
          ]
        }
      ]
    },
    {
      "cell_type": "markdown",
      "source": [
        "Loops"
      ],
      "metadata": {
        "id": "gN4WlrrgUJqm"
      }
    },
    {
      "cell_type": "code",
      "source": [
        "i <- 1\n",
        "while (i<10){\n",
        "  print(i)\n",
        "  i<- i+1\n",
        "}"
      ],
      "metadata": {
        "colab": {
          "base_uri": "https://localhost:8080/"
        },
        "id": "GI_j5v08ULFr",
        "outputId": "d25de23b-36ab-412e-db19-97007df2cc86"
      },
      "execution_count": 16,
      "outputs": [
        {
          "output_type": "stream",
          "name": "stdout",
          "text": [
            "[1] 1\n",
            "[1] 2\n",
            "[1] 3\n",
            "[1] 4\n",
            "[1] 5\n",
            "[1] 6\n",
            "[1] 7\n",
            "[1] 8\n",
            "[1] 9\n"
          ]
        }
      ]
    },
    {
      "cell_type": "code",
      "source": [
        "x <- 10\n",
        "while(x > 0) {\n",
        "  print(x)\n",
        "  x <- x - 2\n",
        "}"
      ],
      "metadata": {
        "colab": {
          "base_uri": "https://localhost:8080/"
        },
        "id": "RO-LL-XSUrYs",
        "outputId": "40ed8618-ab3c-4685-9085-9e1ca95f4143"
      },
      "execution_count": 17,
      "outputs": [
        {
          "output_type": "stream",
          "name": "stdout",
          "text": [
            "[1] 10\n",
            "[1] 8\n",
            "[1] 6\n",
            "[1] 4\n",
            "[1] 2\n"
          ]
        }
      ]
    },
    {
      "cell_type": "code",
      "source": [
        "for (x in 1:10){\n",
        "  print(x)\n",
        "}"
      ],
      "metadata": {
        "colab": {
          "base_uri": "https://localhost:8080/"
        },
        "id": "2h-shFGWU06D",
        "outputId": "1e4e4528-4d0e-4871-fe65-4dd80f3972ff"
      },
      "execution_count": 18,
      "outputs": [
        {
          "output_type": "stream",
          "name": "stdout",
          "text": [
            "[1] 1\n",
            "[1] 2\n",
            "[1] 3\n",
            "[1] 4\n",
            "[1] 5\n",
            "[1] 6\n",
            "[1] 7\n",
            "[1] 8\n",
            "[1] 9\n",
            "[1] 10\n"
          ]
        }
      ]
    },
    {
      "cell_type": "code",
      "source": [
        "sum <- 0\n",
        "for (i in 1:1000) {\n",
        "  if (i %% 3 == 0) {\n",
        "    sum <- sum + i\n",
        "  }\n",
        "}\n",
        "print(sum)"
      ],
      "metadata": {
        "colab": {
          "base_uri": "https://localhost:8080/"
        },
        "id": "2Ug7JoxlWQoL",
        "outputId": "e274fe1e-d2be-4b78-ea40-c3e747e17708"
      },
      "execution_count": 19,
      "outputs": [
        {
          "output_type": "stream",
          "name": "stdout",
          "text": [
            "[1] 166833\n"
          ]
        }
      ]
    },
    {
      "cell_type": "markdown",
      "source": [
        "break/next"
      ],
      "metadata": {
        "id": "uiEct83jWjCP"
      }
    },
    {
      "cell_type": "code",
      "source": [
        "i <- 8\n",
        "while (i>0){\n",
        "  print(i)\n",
        "  i<-i-1\n",
        "  if(i==4){\n",
        "    break\n",
        "  }\n",
        "}"
      ],
      "metadata": {
        "colab": {
          "base_uri": "https://localhost:8080/"
        },
        "id": "OuThNekeWmzE",
        "outputId": "7116de99-29c3-44cb-de66-2225baea7df9"
      },
      "execution_count": 20,
      "outputs": [
        {
          "output_type": "stream",
          "name": "stdout",
          "text": [
            "[1] 8\n",
            "[1] 7\n",
            "[1] 6\n",
            "[1] 5\n"
          ]
        }
      ]
    },
    {
      "cell_type": "code",
      "source": [
        "i <- 1\n",
        "while(i < 5) {\n",
        "  print(i)\n",
        "  i <- i + 1\n",
        "  if(i == 3) {\n",
        "    break\n",
        "  }\n",
        "}"
      ],
      "metadata": {
        "colab": {
          "base_uri": "https://localhost:8080/"
        },
        "id": "CZyUdy2mXEyR",
        "outputId": "a5aa22c6-f713-477c-b0ca-d2ee327a8169"
      },
      "execution_count": 21,
      "outputs": [
        {
          "output_type": "stream",
          "name": "stdout",
          "text": [
            "[1] 1\n",
            "[1] 2\n"
          ]
        }
      ]
    },
    {
      "cell_type": "code",
      "source": [
        "for (x in 1:15){\n",
        "  if (x==13){\n",
        "    next\n",
        "  }\n",
        "  print(x)\n",
        "}"
      ],
      "metadata": {
        "colab": {
          "base_uri": "https://localhost:8080/"
        },
        "id": "5ORYbPlrXEwg",
        "outputId": "8dd0bf9c-d06d-4d97-cbc2-63be62af97a9"
      },
      "execution_count": 22,
      "outputs": [
        {
          "output_type": "stream",
          "name": "stdout",
          "text": [
            "[1] 1\n",
            "[1] 2\n",
            "[1] 3\n",
            "[1] 4\n",
            "[1] 5\n",
            "[1] 6\n",
            "[1] 7\n",
            "[1] 8\n",
            "[1] 9\n",
            "[1] 10\n",
            "[1] 11\n",
            "[1] 12\n",
            "[1] 14\n",
            "[1] 15\n"
          ]
        }
      ]
    }
  ]
}