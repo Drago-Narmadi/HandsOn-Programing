{
  "nbformat": 4,
  "nbformat_minor": 0,
  "metadata": {
    "colab": {
      "provenance": [],
      "authorship_tag": "ABX9TyPq16YScE0F3PMnWJKEYge9",
      "include_colab_link": true
    },
    "kernelspec": {
      "name": "ir",
      "display_name": "R"
    },
    "language_info": {
      "name": "R"
    }
  },
  "cells": [
    {
      "cell_type": "markdown",
      "metadata": {
        "id": "view-in-github",
        "colab_type": "text"
      },
      "source": [
        "<a href=\"https://colab.research.google.com/github/Drago-Narmadi/HandsOn-Programing/blob/main/Programming%20in%20R(2).ipynb\" target=\"_parent\"><img src=\"https://colab.research.google.com/assets/colab-badge.svg\" alt=\"Open In Colab\"/></a>"
      ]
    },
    {
      "cell_type": "markdown",
      "source": [
        "Functions"
      ],
      "metadata": {
        "id": "Ad_dgJDR5qha"
      }
    },
    {
      "cell_type": "code",
      "execution_count": 1,
      "metadata": {
        "colab": {
          "base_uri": "https://localhost:8080/"
        },
        "id": "2XQ-eia5IHjJ",
        "outputId": "21cdf4ff-bfed-4598-e909-d0f035a04191"
      },
      "outputs": [
        {
          "output_type": "stream",
          "name": "stdout",
          "text": [
            "[1] 88\n"
          ]
        }
      ],
      "source": [
        "res <- max(8,3,12,88)\n",
        "print(res)"
      ]
    },
    {
      "cell_type": "markdown",
      "source": [
        "User-Defined Functions"
      ],
      "metadata": {
        "id": "71Z-vXq46KAg"
      }
    },
    {
      "cell_type": "code",
      "source": [
        "pow <- function(x,y){\n",
        "  result <- x^y\n",
        "  print(result)\n",
        "}\n",
        "pow (2,5)\n",
        "pow (8,3)"
      ],
      "metadata": {
        "colab": {
          "base_uri": "https://localhost:8080/"
        },
        "id": "sqC5CSRC6KmQ",
        "outputId": "7a4982d8-5636-4503-91d4-1b180d3acd64"
      },
      "execution_count": 3,
      "outputs": [
        {
          "output_type": "stream",
          "name": "stdout",
          "text": [
            "[1] 32\n",
            "[1] 512\n"
          ]
        }
      ]
    },
    {
      "cell_type": "code",
      "source": [
        "pow <- function (x,y=2){\n",
        "  result <- x^y\n",
        "  print(result)\n",
        "}\n",
        "pow(5)"
      ],
      "metadata": {
        "colab": {
          "base_uri": "https://localhost:8080/"
        },
        "id": "NhAxDm3w8UKm",
        "outputId": "e24b7879-9ca6-43c7-81f1-fabacd35b055"
      },
      "execution_count": 4,
      "outputs": [
        {
          "output_type": "stream",
          "name": "stdout",
          "text": [
            "[1] 25\n"
          ]
        }
      ]
    },
    {
      "cell_type": "code",
      "source": [
        "stars <- function(x){\n",
        "  i <- 0\n",
        "  while (i<x){\n",
        "    print(\"*\")\n",
        "    i <- i+1\n",
        "  }\n",
        "}\n",
        "x <- readline('stdin')\n",
        "x <- as.integer(x[1])\n",
        "stars(x)"
      ],
      "metadata": {
        "colab": {
          "base_uri": "https://localhost:8080/"
        },
        "id": "VRzhVoNACMd-",
        "outputId": "08178d44-5fb1-4fe4-ae80-6e3e162c43bf"
      },
      "execution_count": 11,
      "outputs": [
        {
          "output_type": "stream",
          "name": "stdout",
          "text": [
            "stdin4\n",
            "[1] \"*\"\n",
            "[1] \"*\"\n",
            "[1] \"*\"\n",
            "[1] \"*\"\n"
          ]
        }
      ]
    },
    {
      "cell_type": "code",
      "source": [
        "test <- function(a, b=4) {\n",
        "  result <- (a+b)*3\n",
        "  print(result)\n",
        "}\n",
        "test(1)"
      ],
      "metadata": {
        "colab": {
          "base_uri": "https://localhost:8080/"
        },
        "id": "afkvsHnpDr3G",
        "outputId": "18273caa-c995-4277-c5af-ab694fc7ac59"
      },
      "execution_count": 12,
      "outputs": [
        {
          "output_type": "stream",
          "name": "stdout",
          "text": [
            "[1] 15\n"
          ]
        }
      ]
    },
    {
      "cell_type": "markdown",
      "source": [
        "Return"
      ],
      "metadata": {
        "id": "PK9mt4wvDzEV"
      }
    },
    {
      "cell_type": "code",
      "source": [
        "pow <- function(x, y=2){\n",
        "  result <- x^y\n",
        "  return(result)\n",
        "}\n",
        "a <- pow(8)\n",
        "print(a)"
      ],
      "metadata": {
        "colab": {
          "base_uri": "https://localhost:8080/"
        },
        "id": "3gSL0hTkDyyF",
        "outputId": "14bc352b-76b7-46cf-9e77-6ecab9a2a315"
      },
      "execution_count": 13,
      "outputs": [
        {
          "output_type": "stream",
          "name": "stdout",
          "text": [
            "[1] 64\n"
          ]
        }
      ]
    },
    {
      "cell_type": "code",
      "source": [
        "S <- function(s){\n",
        "  result <- s^2\n",
        "    return(result)\n",
        "}\n",
        "x <- readline('stdin')\n",
        "x <- as.integer(x[1])\n",
        "S(x)"
      ],
      "metadata": {
        "colab": {
          "base_uri": "https://localhost:8080/",
          "height": 52
        },
        "id": "HoHdGwItNgtL",
        "outputId": "a71bad63-9440-409b-e3ce-25a37e017c59"
      },
      "execution_count": 17,
      "outputs": [
        {
          "name": "stdout",
          "output_type": "stream",
          "text": [
            "stdin4\n"
          ]
        },
        {
          "output_type": "display_data",
          "data": {
            "text/html": [
              "16"
            ],
            "text/markdown": "16",
            "text/latex": "16",
            "text/plain": [
              "[1] 16"
            ]
          },
          "metadata": {}
        }
      ]
    },
    {
      "cell_type": "code",
      "source": [
        "calc <- function(a, b) {\n",
        "  res <- 0\n",
        "  for(x in a:b) {\n",
        "    res <- res + x\n",
        "  }\n",
        "  return(res)\n",
        "}\n",
        "print(calc(4, 7))"
      ],
      "metadata": {
        "colab": {
          "base_uri": "https://localhost:8080/"
        },
        "id": "pnetBb71WX9I",
        "outputId": "b4db1a54-bfb0-461c-b215-59f542b26267"
      },
      "execution_count": 18,
      "outputs": [
        {
          "output_type": "stream",
          "name": "stdout",
          "text": [
            "[1] 22\n"
          ]
        }
      ]
    },
    {
      "cell_type": "code",
      "source": [
        "sum <- function(x) {\n",
        "  res <- 1\n",
        "  for(val in 1:x) {\n",
        "    if(val == 3) {\n",
        "      break\n",
        "  }\n",
        "  res <- res * val\n",
        "  }\n",
        "  return(res)\n",
        "}\n",
        "sum(5)"
      ],
      "metadata": {
        "colab": {
          "base_uri": "https://localhost:8080/",
          "height": 34
        },
        "id": "gghP05G4Wb4_",
        "outputId": "d3b16835-a0ed-40af-d294-4babcca013be"
      },
      "execution_count": 19,
      "outputs": [
        {
          "output_type": "display_data",
          "data": {
            "text/html": [
              "2"
            ],
            "text/markdown": "2",
            "text/latex": "2",
            "text/plain": [
              "[1] 2"
            ]
          },
          "metadata": {}
        }
      ]
    }
  ]
}