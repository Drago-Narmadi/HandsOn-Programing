{
  "nbformat": 4,
  "nbformat_minor": 0,
  "metadata": {
    "colab": {
      "provenance": [],
      "authorship_tag": "ABX9TyPbmjtHiJS+VX65pbXDcIJw",
      "include_colab_link": true
    },
    "kernelspec": {
      "name": "python3",
      "display_name": "Python 3"
    },
    "language_info": {
      "name": "python"
    }
  },
  "cells": [
    {
      "cell_type": "markdown",
      "metadata": {
        "id": "view-in-github",
        "colab_type": "text"
      },
      "source": [
        "<a href=\"https://colab.research.google.com/github/Drago-Narmadi/HandsOn-Programing/blob/main/Python%20Classes%20and%20Objects.ipynb\" target=\"_parent\"><img src=\"https://colab.research.google.com/assets/colab-badge.svg\" alt=\"Open In Colab\"/></a>"
      ]
    },
    {
      "cell_type": "code",
      "execution_count": 5,
      "metadata": {
        "colab": {
          "base_uri": "https://localhost:8080/"
        },
        "id": "WQuupY9wlkW3",
        "outputId": "7445d45c-b7ce-47bb-c98d-6ecbebc070b3"
      },
      "outputs": [
        {
          "output_type": "stream",
          "name": "stdout",
          "text": [
            "<__main__.MyClass object at 0x7f2cdcb76ef0>\n",
            "1\n"
          ]
        }
      ],
      "source": [
        "class MyClass:\n",
        "  x=1\n",
        "c1= MyClass()\n",
        "print(c1)\n",
        "print(c1.x)"
      ]
    },
    {
      "cell_type": "code",
      "source": [
        "class MyClass:\n",
        "  x=input(\"Enter some thing :\")\n",
        "c1= MyClass()\n",
        "\n",
        "print(c1.x)"
      ],
      "metadata": {
        "colab": {
          "base_uri": "https://localhost:8080/"
        },
        "id": "8aTpO0YGqKMr",
        "outputId": "577ec77e-586a-4f3e-b605-3f2e6cf7143a"
      },
      "execution_count": 8,
      "outputs": [
        {
          "output_type": "stream",
          "name": "stdout",
          "text": [
            "Enter some thing :5\n",
            "5\n"
          ]
        }
      ]
    },
    {
      "cell_type": "code",
      "source": [
        "class  car:\n",
        "  Model =(\"Nissan\")\n",
        "  Year =(\"2004\")\n",
        "\n",
        "c1=car()\n",
        "print(c1.Model)\n",
        "print(c1.Year)\n",
        "c1.Model=\"Toyota\"\n",
        "print(c1.Model)"
      ],
      "metadata": {
        "colab": {
          "base_uri": "https://localhost:8080/"
        },
        "id": "PR6kBzn9q_Vy",
        "outputId": "2ddb8404-ddd4-4b63-e391-1be49454c913"
      },
      "execution_count": 17,
      "outputs": [
        {
          "output_type": "stream",
          "name": "stdout",
          "text": [
            "Nissan\n",
            "2004\n",
            "Toyota\n"
          ]
        }
      ]
    },
    {
      "cell_type": "code",
      "source": [
        "class MyClass:\n",
        "  x=input(\"Enter some thing :\")\n",
        "  y=input(\"Enter some thing :\")\n",
        "\n",
        "c1= MyClass()\n",
        "\n",
        "print(c1.x)\n",
        "print(c1.y)"
      ],
      "metadata": {
        "colab": {
          "base_uri": "https://localhost:8080/"
        },
        "id": "iNvkZv-bsdIU",
        "outputId": "d7962e1a-1956-4e22-a9aa-7ae1c7c17379"
      },
      "execution_count": 18,
      "outputs": [
        {
          "output_type": "stream",
          "name": "stdout",
          "text": [
            "Enter some thing :5\n",
            "Enter some thing :6\n",
            "5\n",
            "6\n"
          ]
        }
      ]
    },
    {
      "cell_type": "code",
      "source": [
        "class  car:\n",
        "  Model =input(\"Enter car Model:\")\n",
        "  Year =input(\"Enter year: \")\n",
        "\n",
        "\n",
        "c2=car()\n",
        "print(c2.Model,\",\",c2.Year)\n"
      ],
      "metadata": {
        "colab": {
          "base_uri": "https://localhost:8080/"
        },
        "id": "U_uh06AgsthT",
        "outputId": "ed20cd12-bf3d-4ef9-ed13-bd42898619b6"
      },
      "execution_count": 23,
      "outputs": [
        {
          "output_type": "stream",
          "name": "stdout",
          "text": [
            "Enter car Model:lll\n",
            "Enter year: 555\n",
            "lll , 555\n"
          ]
        }
      ]
    },
    {
      "cell_type": "code",
      "source": [
        "class car:\n",
        "  def __init__(self) :\n",
        "    print(\"Object created\")\n",
        "    model = \"Nissan\"\n",
        "    year=2004\n",
        "  model=\"__\"\n",
        "  year=0\n",
        "\n",
        "c1 = car()\n",
        "print(c1.model)\n",
        "print(c1.year)    "
      ],
      "metadata": {
        "colab": {
          "base_uri": "https://localhost:8080/"
        },
        "id": "8nwDSZWZyDqq",
        "outputId": "b551d460-1856-4603-adda-630dcb200dfa"
      },
      "execution_count": 26,
      "outputs": [
        {
          "output_type": "stream",
          "name": "stdout",
          "text": [
            "Object created\n",
            "__\n",
            "0\n"
          ]
        }
      ]
    },
    {
      "cell_type": "code",
      "source": [
        "class car:\n",
        "  def __init__(self) :\n",
        "    print(\"Object created\")\n",
        "    model = \"Nissan\"\n",
        "    year=2004\n",
        "  model=\"__\"\n",
        "  year=0\n",
        "\n",
        "c1 = car()\n",
        "c2 = car()   "
      ],
      "metadata": {
        "colab": {
          "base_uri": "https://localhost:8080/"
        },
        "id": "DqVFaAZIztMN",
        "outputId": "c09d9fea-4ceb-49a9-cd19-9a75308a8976"
      },
      "execution_count": 27,
      "outputs": [
        {
          "output_type": "stream",
          "name": "stdout",
          "text": [
            "Object created\n",
            "Object created\n"
          ]
        }
      ]
    },
    {
      "cell_type": "code",
      "source": [
        "class car:\n",
        "  def __init__(self) :\n",
        "    self.model = \"Nissan\"\n",
        "    self.year=2004\n",
        "  model=\"__\"\n",
        "  year=0\n",
        "\n",
        "c1 = car()\n",
        "print(c1.model)\n",
        "print(c1.year)   "
      ],
      "metadata": {
        "colab": {
          "base_uri": "https://localhost:8080/"
        },
        "id": "vd8OYzuI2sI2",
        "outputId": "b63a4c6c-80fe-4cb4-bbc4-3515c8a08769"
      },
      "execution_count": 28,
      "outputs": [
        {
          "output_type": "stream",
          "name": "stdout",
          "text": [
            "Nissan\n",
            "2004\n"
          ]
        }
      ]
    },
    {
      "cell_type": "code",
      "source": [
        "class car:\n",
        "  def __init__(self,m,n) :\n",
        "    self.model = m\n",
        "    self.year = n\n",
        "\n",
        "c1 = car(\"Toyota\",2004)\n",
        "c2 = car(\"Nissan\",2005)\n",
        "print(c1.model)\n",
        "print(c2.year)"
      ],
      "metadata": {
        "colab": {
          "base_uri": "https://localhost:8080/"
        },
        "id": "Jtfe-Dzl2-yd",
        "outputId": "6384bceb-8225-4447-fba5-62da37a75fe0"
      },
      "execution_count": 31,
      "outputs": [
        {
          "output_type": "stream",
          "name": "stdout",
          "text": [
            "Toyota\n",
            "2005\n"
          ]
        }
      ]
    },
    {
      "cell_type": "code",
      "source": [
        "class Home:\n",
        "  def __init__(self,nbe,nbt,si):\n",
        "    self.no_bedrooms = nbe\n",
        "    self.__no_bathroom = nbt\n",
        "    self.size=si\n",
        "\n",
        "h1=Home(5,3,100)\n",
        "print(h1.__no_bathroom)"
      ],
      "metadata": {
        "colab": {
          "base_uri": "https://localhost:8080/",
          "height": 201
        },
        "id": "E78qOdWY5Bs_",
        "outputId": "7753575e-bc04-4e13-c964-4b852d151512"
      },
      "execution_count": 33,
      "outputs": [
        {
          "output_type": "error",
          "ename": "AttributeError",
          "evalue": "ignored",
          "traceback": [
            "\u001b[0;31m---------------------------------------------------------------------------\u001b[0m",
            "\u001b[0;31mAttributeError\u001b[0m                            Traceback (most recent call last)",
            "\u001b[0;32m<ipython-input-33-ec078af2b9ff>\u001b[0m in \u001b[0;36m<cell line: 8>\u001b[0;34m()\u001b[0m\n\u001b[1;32m      6\u001b[0m \u001b[0;34m\u001b[0m\u001b[0m\n\u001b[1;32m      7\u001b[0m \u001b[0mh1\u001b[0m\u001b[0;34m=\u001b[0m\u001b[0mHome\u001b[0m\u001b[0;34m(\u001b[0m\u001b[0;36m5\u001b[0m\u001b[0;34m,\u001b[0m\u001b[0;36m3\u001b[0m\u001b[0;34m,\u001b[0m\u001b[0;36m100\u001b[0m\u001b[0;34m)\u001b[0m\u001b[0;34m\u001b[0m\u001b[0;34m\u001b[0m\u001b[0m\n\u001b[0;32m----> 8\u001b[0;31m \u001b[0mprint\u001b[0m\u001b[0;34m(\u001b[0m\u001b[0mh1\u001b[0m\u001b[0;34m.\u001b[0m\u001b[0m__no_bathroom\u001b[0m\u001b[0;34m)\u001b[0m\u001b[0;34m\u001b[0m\u001b[0;34m\u001b[0m\u001b[0m\n\u001b[0m",
            "\u001b[0;31mAttributeError\u001b[0m: 'Home' object has no attribute '__no_bathroom'"
          ]
        }
      ]
    },
    {
      "cell_type": "code",
      "source": [
        "class Home:\n",
        "  def __init__(self,nbe,nbt,si):\n",
        "    self.no_bedrooms = nbe\n",
        "    self.__no_bathroom = nbt\n",
        "    self.size=si\n",
        "\n",
        "  def show_no_bathrooms(self):\n",
        "    return self.__no_bathroom\n",
        "\n",
        "  def show_no_bedrooms(self):\n",
        "    return self.no_bedrooms\n",
        "\n",
        "h1=Home(5,3,100)\n",
        "print(h1.show_no_bathrooms())\n",
        "print(h1.show_no_bedrooms())"
      ],
      "metadata": {
        "colab": {
          "base_uri": "https://localhost:8080/"
        },
        "id": "Brf-h99W9eCQ",
        "outputId": "ba8b4029-96cc-43ba-c141-87cdd037c792"
      },
      "execution_count": 41,
      "outputs": [
        {
          "output_type": "stream",
          "name": "stdout",
          "text": [
            "3\n",
            "5\n"
          ]
        }
      ]
    },
    {
      "cell_type": "code",
      "source": [
        "class Home:\n",
        "  def __init__(self,nbe,nbt,si):\n",
        "    self.no_bedrooms = nbe\n",
        "    self.__no_bathroom = nbt\n",
        "    self.size=si\n",
        "\n",
        "  def show_no_bathrooms(self):\n",
        "    return self.__no_bathroom\n",
        "\n",
        "  def show_no_bedrooms(self):\n",
        "    return self.no_bedrooms\n",
        "\n",
        "h1=Home(5,3,100)\n",
        "print(h1.show_no_bathrooms())\n",
        "print(h1.show_no_bedrooms())\n",
        "print(h1)"
      ],
      "metadata": {
        "colab": {
          "base_uri": "https://localhost:8080/"
        },
        "id": "KQ754Rl8-pZP",
        "outputId": "96f1b8db-22e7-4f8e-b0bb-2654eed465bb"
      },
      "execution_count": 42,
      "outputs": [
        {
          "output_type": "stream",
          "name": "stdout",
          "text": [
            "3\n",
            "5\n",
            "<__main__.Home object at 0x7f2cafcb4640>\n"
          ]
        }
      ]
    },
    {
      "cell_type": "code",
      "source": [
        "class Home:\n",
        "  def __init__(self,nbe,nbt,si):\n",
        "    self.no_bedrooms = nbe\n",
        "    self.__no_bathroom = nbt\n",
        "    self.size=si\n",
        "\n",
        "  def show_no_bathrooms(self):\n",
        "    return self.__no_bathroom\n",
        "\n",
        "  def show_no_bedrooms(self):\n",
        "    return self.no_bedrooms\n",
        "\n",
        "  def __str__(self):\n",
        "    return \"Hello\"\n",
        "\n",
        "h1=Home(5,3,100)\n",
        "print(h1.show_no_bathrooms())\n",
        "print(h1.show_no_bedrooms())\n",
        "print(h1)"
      ],
      "metadata": {
        "colab": {
          "base_uri": "https://localhost:8080/"
        },
        "id": "XD9EZoTt-ufz",
        "outputId": "c4d069c9-317b-4342-8814-5325ad8a49b1"
      },
      "execution_count": 43,
      "outputs": [
        {
          "output_type": "stream",
          "name": "stdout",
          "text": [
            "3\n",
            "5\n",
            "Hello\n"
          ]
        }
      ]
    }
  ]
}