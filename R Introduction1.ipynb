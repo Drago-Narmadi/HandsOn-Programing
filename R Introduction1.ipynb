{
  "nbformat": 4,
  "nbformat_minor": 0,
  "metadata": {
    "colab": {
      "provenance": [],
      "authorship_tag": "ABX9TyP2iQiKsI7h2tbulidmJ/DS",
      "include_colab_link": true
    },
    "kernelspec": {
      "name": "ir",
      "display_name": "R"
    },
    "language_info": {
      "name": "R"
    }
  },
  "cells": [
    {
      "cell_type": "markdown",
      "metadata": {
        "id": "view-in-github",
        "colab_type": "text"
      },
      "source": [
        "<a href=\"https://colab.research.google.com/github/Drago-Narmadi/HandsOn-Programing/blob/main/R%20Introduction1.ipynb\" target=\"_parent\"><img src=\"https://colab.research.google.com/assets/colab-badge.svg\" alt=\"Open In Colab\"/></a>"
      ]
    },
    {
      "cell_type": "code",
      "execution_count": 1,
      "metadata": {
        "colab": {
          "base_uri": "https://localhost:8080/"
        },
        "id": "onTqsRdjSDyb",
        "outputId": "ea1a4f55-98ba-4f84-d3ba-43fe689bfecb"
      },
      "outputs": [
        {
          "output_type": "stream",
          "name": "stdout",
          "text": [
            "[1] \"This is called \\\"escaping\\\".\"\n",
            "This is called \"escaping\"."
          ]
        }
      ],
      "source": [
        "message <- \"This is called \\\"escaping\\\".\"\n",
        "print (message)\n",
        "cat (message)"
      ]
    },
    {
      "cell_type": "markdown",
      "source": [
        "Basic Maths"
      ],
      "metadata": {
        "id": "FOqRpI27VABV"
      }
    },
    {
      "cell_type": "code",
      "source": [
        "x <- 11\n",
        "y <- 4\n",
        " #addition\n",
        " print(x+y)\n",
        " \n",
        " #subtraction\n",
        " print(x-y)\n",
        "\n",
        " #multiplication\n",
        " print(x*y)\n",
        "\n",
        " #division\n",
        " print(x/y)\n",
        "\n",
        " #exponentation\n",
        " print(x^y)\n",
        " print(x**y)\n",
        "\n",
        " #modulus (reminder from division)\n",
        " print(x%%y)\n",
        "\n",
        " #integer division\n",
        " print(x%/%y)"
      ],
      "metadata": {
        "colab": {
          "base_uri": "https://localhost:8080/"
        },
        "id": "L_3TNqLMU92t",
        "outputId": "7f97a285-6b74-47cf-a451-b8721d229516"
      },
      "execution_count": 2,
      "outputs": [
        {
          "output_type": "stream",
          "name": "stdout",
          "text": [
            "[1] 15\n",
            "[1] 7\n",
            "[1] 44\n",
            "[1] 2.75\n",
            "[1] 14641\n",
            "[1] 14641\n",
            "[1] 3\n",
            "[1] 2\n"
          ]
        }
      ]
    },
    {
      "cell_type": "markdown",
      "source": [
        "Math Functions"
      ],
      "metadata": {
        "id": "lBRvqwy3WhjU"
      }
    },
    {
      "cell_type": "code",
      "source": [
        "a <- 8\n",
        "b <- 12\n",
        "print(min(a,b))\n",
        "print(max(a,b))\n",
        "\n",
        "print(sqrt(64))"
      ],
      "metadata": {
        "colab": {
          "base_uri": "https://localhost:8080/"
        },
        "id": "LkN1kgbkWib0",
        "outputId": "ca01f931-0a1a-44c7-bc27-6c68536dc3bb"
      },
      "execution_count": 3,
      "outputs": [
        {
          "output_type": "stream",
          "name": "stdout",
          "text": [
            "[1] 8\n",
            "[1] 12\n",
            "[1] 8\n"
          ]
        }
      ]
    },
    {
      "cell_type": "code",
      "source": [
        "Booleans"
      ],
      "metadata": {
        "id": "gZnLJnj_XXXg"
      },
      "execution_count": null,
      "outputs": []
    },
    {
      "cell_type": "code",
      "source": [
        "x <- 14\n",
        "print(x > 20)"
      ],
      "metadata": {
        "colab": {
          "base_uri": "https://localhost:8080/"
        },
        "id": "xFohBszSXYGH",
        "outputId": "398869f3-7152-4d8c-8427-d11604b1e56b"
      },
      "execution_count": 4,
      "outputs": [
        {
          "output_type": "stream",
          "name": "stdout",
          "text": [
            "[1] FALSE\n"
          ]
        }
      ]
    },
    {
      "cell_type": "code",
      "source": [
        "x <- 42\n",
        "print(x >= 8)\n",
        "print(x <24)\n",
        "print(x == 42)\n",
        "print(x !=42)"
      ],
      "metadata": {
        "colab": {
          "base_uri": "https://localhost:8080/"
        },
        "id": "5pDxTJz7Xqbp",
        "outputId": "0cd609f0-8764-47fd-e66c-694d57b5b7a9"
      },
      "execution_count": 5,
      "outputs": [
        {
          "output_type": "stream",
          "name": "stdout",
          "text": [
            "[1] TRUE\n",
            "[1] FALSE\n",
            "[1] TRUE\n",
            "[1] FALSE\n"
          ]
        }
      ]
    },
    {
      "cell_type": "markdown",
      "source": [
        "Taking Input"
      ],
      "metadata": {
        "id": "6wFvbl5bcOnW"
      }
    },
    {
      "cell_type": "code",
      "source": [
        "input <- readLines('stdin')\n",
        "print(input[2])"
      ],
      "metadata": {
        "colab": {
          "base_uri": "https://localhost:8080/"
        },
        "id": "_r-GlpXMcPL7",
        "outputId": "02a8f5d7-1a2a-431d-bbe4-eac47b213791"
      },
      "execution_count": 8,
      "outputs": [
        {
          "output_type": "stream",
          "name": "stdout",
          "text": [
            "[1] NA\n"
          ]
        }
      ]
    },
    {
      "cell_type": "code",
      "source": [
        "input <- readline('stdin')\n",
        "x<- input[1]\n",
        "x <- as.integer(x)\n",
        "print(x*2)"
      ],
      "metadata": {
        "colab": {
          "base_uri": "https://localhost:8080/"
        },
        "id": "YfNFb3FNdCQM",
        "outputId": "e56d63f2-c22b-40aa-c0bd-dc486002181d"
      },
      "execution_count": 9,
      "outputs": [
        {
          "output_type": "stream",
          "name": "stdout",
          "text": [
            "stdin2\n",
            "[1] 4\n"
          ]
        }
      ]
    },
    {
      "cell_type": "code",
      "source": [
        "input <- readline('stdin')\n",
        "x<- input[1]\n",
        "x <- as.integer(x)\n",
        "print(x*2)"
      ],
      "metadata": {
        "colab": {
          "base_uri": "https://localhost:8080/"
        },
        "id": "frz5U_14dgU7",
        "outputId": "e75fd8cf-dc72-40d7-ba19-3b462dd0f652"
      },
      "execution_count": 14,
      "outputs": [
        {
          "name": "stdout",
          "output_type": "stream",
          "text": [
            "stdingg\n"
          ]
        },
        {
          "output_type": "stream",
          "name": "stderr",
          "text": [
            "Warning message in eval(expr, envir, enclos):\n",
            "“NAs introduced by coercion”\n"
          ]
        },
        {
          "output_type": "stream",
          "name": "stdout",
          "text": [
            "[1] NA\n"
          ]
        }
      ]
    },
    {
      "cell_type": "markdown",
      "source": [
        "Output"
      ],
      "metadata": {
        "id": "vLRIgwMaeK6d"
      }
    },
    {
      "cell_type": "code",
      "source": [
        "x <- \"hello\\nthere!\"\n",
        "print(x)\n",
        "cat(x) "
      ],
      "metadata": {
        "colab": {
          "base_uri": "https://localhost:8080/"
        },
        "id": "ix-5edqceNkc",
        "outputId": "0b5f1120-a588-4d25-ea10-fb432109b5a4"
      },
      "execution_count": 15,
      "outputs": [
        {
          "output_type": "stream",
          "name": "stdout",
          "text": [
            "[1] \"hello\\nthere!\"\n",
            "hello\n",
            "there!"
          ]
        }
      ]
    }
  ]
}