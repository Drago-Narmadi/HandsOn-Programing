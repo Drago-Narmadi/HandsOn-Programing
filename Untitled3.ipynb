{
  "nbformat": 4,
  "nbformat_minor": 0,
  "metadata": {
    "colab": {
      "provenance": [],
      "authorship_tag": "ABX9TyO6dUIPfIQaqf1U0sntjgHM",
      "include_colab_link": true
    },
    "kernelspec": {
      "name": "python3",
      "display_name": "Python 3"
    },
    "language_info": {
      "name": "python"
    }
  },
  "cells": [
    {
      "cell_type": "markdown",
      "metadata": {
        "id": "view-in-github",
        "colab_type": "text"
      },
      "source": [
        "<a href=\"https://colab.research.google.com/github/Drago-Narmadi/HandsOn-Programing/blob/main/Untitled3.ipynb\" target=\"_parent\"><img src=\"https://colab.research.google.com/assets/colab-badge.svg\" alt=\"Open In Colab\"/></a>"
      ]
    },
    {
      "cell_type": "code",
      "execution_count": null,
      "metadata": {
        "colab": {
          "base_uri": "https://localhost:8080/"
        },
        "id": "T0t9GescXhO8",
        "outputId": "c4f4fe33-c280-442b-c08b-38159afeb007"
      },
      "outputs": [
        {
          "output_type": "stream",
          "name": "stdout",
          "text": [
            "1\n",
            "2\n",
            "3\n",
            "6\n",
            "6\n"
          ]
        }
      ],
      "source": [
        "def f(x):\n",
        "    if x == 0:\n",
        "        return 1\n",
        "    elif x == 1:\n",
        "        return 2\n",
        "    elif x == 2:\n",
        "        return 3\n",
        "    else:\n",
        "        return f(x-3) + 5*f(x-2) - 2*f(x-1) + 1\n",
        "print(f(0))\n",
        "print(f(1))\n",
        "print(f(2))\n",
        "print(f(3))\n",
        "print(f(4))"
      ]
    },
    {
      "cell_type": "code",
      "source": [
        "def f(x):\n",
        "    if x == 0:\n",
        "        return 1\n",
        "    elif x == 1:\n",
        "        return 2\n",
        "    elif x == 2:\n",
        "        return 3\n",
        "    else:\n",
        "        return f(x-3) + 5*f(x-2) - 2*f(x-1) + 1\n",
        "\n",
        "x= int(input(\"Enter value for x :\"))\n",
        "print(\"Value of f(\",x,\")= \",f(x))\n",
        "for i in range (x+1):\n",
        "  print(f(i),end=\",\") \n"
      ],
      "metadata": {
        "colab": {
          "base_uri": "https://localhost:8080/"
        },
        "id": "1YJ3ppEjgkEC",
        "outputId": "9868dd2f-f5c7-4805-e2cf-5f087394f9e0"
      },
      "execution_count": null,
      "outputs": [
        {
          "output_type": "stream",
          "name": "stdout",
          "text": [
            "Enter value for x :7\n",
            "Value of f( 7 )=  131\n",
            "1,2,3,6,6,22,-7,131,"
          ]
        }
      ]
    }
  ]
}